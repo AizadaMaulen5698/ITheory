{
 "cells": [
  {
   "cell_type": "code",
   "execution_count": 20,
   "metadata": {},
   "outputs": [],
   "source": [
    "seq1 = ''\n",
    "for a in encodedB:\n",
    "    for b in a:\n",
    "        seq1 = seq1 + str(b)"
   ]
  },
  {
   "cell_type": "code",
   "execution_count": 21,
   "metadata": {},
   "outputs": [
    {
     "data": {
      "text/plain": [
       "'111010111000001111001000001101000011001111110010001111000101101010101010010010111001100010101100010111001110110110100001101100100010010011110001101110000011000000001100011100001100010110101010101'"
      ]
     },
     "execution_count": 21,
     "metadata": {},
     "output_type": "execute_result"
    }
   ],
   "source": [
    "seq1"
   ]
  },
  {
   "cell_type": "code",
   "execution_count": 77,
   "metadata": {},
   "outputs": [
    {
     "data": {
      "text/plain": [
       "13"
      ]
     },
     "execution_count": 77,
     "metadata": {},
     "output_type": "execute_result"
    }
   ],
   "source": [
    "g = math.ceil((len(seq1)/15))\n",
    "g"
   ]
  },
  {
   "cell_type": "code",
   "execution_count": 78,
   "metadata": {},
   "outputs": [
    {
     "name": "stdout",
     "output_type": "stream",
     "text": [
      "195\n"
     ]
    }
   ],
   "source": [
    "ga = len(seq1)\n",
    "print(ga)"
   ]
  },
  {
   "cell_type": "code",
   "execution_count": 79,
   "metadata": {},
   "outputs": [],
   "source": [
    "i=0\n",
    "B = []\n",
    "B.append([])\n",
    "for x in range(0,g):\n",
    "    B.append([])\n",
    "    for y in range(0,15):\n",
    "        B[x].append(int(seq[i]))\n",
    "        i = i+1\n",
    "        if i == ga:\n",
    "            \n",
    "            break"
   ]
  },
  {
   "cell_type": "code",
   "execution_count": 80,
   "metadata": {},
   "outputs": [
    {
     "name": "stdout",
     "output_type": "stream",
     "text": [
      "[1, 1, 1, 0, 0, 0, 0, 1, 0, 1, 1, 0, 1, 0, 0]\n",
      "[0, 0, 1, 1, 1, 1, 1, 1, 0, 0, 1, 1, 0, 1, 0]\n",
      "[0, 0, 0, 1, 1, 0, 1, 0, 0, 1, 0, 1, 0, 0, 1]\n",
      "[1, 0, 0, 1, 0, 1, 1, 1, 1, 0, 0, 1, 0, 1, 0]\n",
      "[1, 0, 1, 0, 0, 1, 1, 0, 0, 1, 1, 0, 0, 1, 1]\n",
      "[0, 0, 1, 0, 1, 0, 1, 0, 1, 1, 0, 1, 1, 0, 1]\n",
      "[0, 0, 1, 0, 0, 1, 0, 1, 1, 0, 1, 1, 0, 1, 0]\n",
      "[1, 0, 1, 1, 0, 1, 0, 0, 0, 1, 0, 1, 1, 0, 1]\n",
      "[1, 0, 0, 1, 1, 0, 0, 0, 1, 1, 0, 0, 1, 0, 1]\n",
      "[1, 0, 0, 1, 1, 1, 1, 0, 1, 0, 0, 1, 0, 1, 0]\n",
      "[0, 1, 0, 1, 1, 0, 1, 1, 0, 1, 0, 0, 0, 1, 0]\n",
      "[1, 1, 0, 0, 1, 0, 0, 1, 0, 1, 1, 1, 1, 1, 1]\n",
      "[1, 1, 0, 0, 1, 1, 0, 0, 1, 0, 1, 0, 0, 1, 0]\n"
     ]
    }
   ],
   "source": [
    "B.remove([])\n",
    "for a in B:        \n",
    "    while len(a)<11:\n",
    "        a.append(0)\n",
    "    print(a)"
   ]
  },
  {
   "cell_type": "code",
   "execution_count": 33,
   "metadata": {},
   "outputs": [],
   "source": [
    "def ErrorGen(per, bitstring):\n",
    "    swap = {0:1, 1:0}\n",
    "    print('original: ',bitstring)\n",
    "    #prob = per/100\n",
    "    import random\n",
    "    #for _ in range(len(bitstring)):\n",
    "        #if random.uniform(0, 1) <= prob:\n",
    "    i = random.randint(0, 6)\n",
    "    bitstring[i]=swap[bitstring[i]]\n",
    "    print('corrupted: ',bitstring)\n",
    "    return bitstring"
   ]
  },
  {
   "cell_type": "code",
   "execution_count": 35,
   "metadata": {},
   "outputs": [
    {
     "name": "stdout",
     "output_type": "stream",
     "text": [
      "original:  [1, 1, 1, 0, 0, 0, 1, 1, 1, 0, 0, 0, 0, 0, 1]\n",
      "corrupted:  [1, 1, 1, 1, 0, 0, 1, 1, 1, 0, 0, 0, 0, 0, 1]\n",
      "original:  [1, 1, 1, 0, 1, 1, 0, 0, 0, 0, 0, 1, 1, 0, 1]\n",
      "corrupted:  [1, 1, 1, 1, 1, 1, 0, 0, 0, 0, 0, 1, 1, 0, 1]\n",
      "original:  [0, 0, 0, 0, 1, 0, 0, 0, 1, 1, 1, 1, 1, 1, 0]\n",
      "corrupted:  [0, 1, 0, 0, 1, 0, 0, 0, 1, 1, 1, 1, 1, 1, 0]\n",
      "original:  [0, 1, 0, 0, 1, 1, 1, 1, 1, 0, 0, 0, 1, 0, 1]\n",
      "corrupted:  [0, 1, 1, 0, 1, 1, 1, 1, 1, 0, 0, 0, 1, 0, 1]\n",
      "original:  [0, 0, 1, 0, 1, 0, 1, 0, 1, 0, 1, 0, 0, 1, 0]\n",
      "corrupted:  [0, 0, 0, 0, 1, 0, 1, 0, 1, 0, 1, 0, 0, 1, 0]\n",
      "original:  [0, 1, 0, 1, 0, 1, 0, 0, 1, 1, 0, 0, 0, 1, 0]\n",
      "corrupted:  [0, 1, 0, 1, 0, 1, 1, 0, 1, 1, 0, 0, 0, 1, 0]\n",
      "original:  [1, 0, 1, 1, 0, 1, 0, 1, 0, 1, 1, 1, 0, 0, 1]\n",
      "corrupted:  [0, 0, 1, 1, 0, 1, 0, 1, 0, 1, 1, 1, 0, 0, 1]\n",
      "original:  [1, 1, 0, 1, 1, 0, 0, 1, 0, 1, 0, 0, 0, 0, 1]\n",
      "corrupted:  [0, 1, 0, 1, 1, 0, 0, 1, 0, 1, 0, 0, 0, 0, 1]\n",
      "original:  [1, 0, 1, 1, 0, 0, 0, 0, 0, 0, 1, 0, 0, 1, 0]\n",
      "corrupted:  [1, 0, 1, 1, 1, 0, 0, 0, 0, 0, 1, 0, 0, 1, 0]\n",
      "original:  [0, 1, 1, 1, 0, 0, 0, 0, 1, 1, 0, 1, 1, 1, 0]\n",
      "corrupted:  [0, 1, 1, 1, 0, 1, 0, 0, 1, 1, 0, 1, 1, 1, 0]\n",
      "original:  [0, 0, 0, 0, 1, 1, 1, 0, 0, 0, 0, 0, 0, 0, 1]\n",
      "corrupted:  [0, 1, 0, 0, 1, 1, 1, 0, 0, 0, 0, 0, 0, 0, 1]\n",
      "original:  [1, 0, 0, 1, 1, 1, 1, 0, 0, 0, 0, 1, 1, 0, 0]\n",
      "corrupted:  [1, 0, 0, 1, 1, 1, 0, 0, 0, 0, 0, 1, 1, 0, 0]\n",
      "original:  [0, 1, 0, 1, 1, 0, 0, 0, 1, 0, 1, 0, 1, 0, 1]\n",
      "corrupted:  [0, 1, 0, 1, 0, 0, 0, 0, 1, 0, 1, 0, 1, 0, 1]\n"
     ]
    }
   ],
   "source": [
    "corruptedB = []\n",
    "for a in B:  \n",
    "    corruptedB.append(ErrorGen(60, a))"
   ]
  },
  {
   "cell_type": "code",
   "execution_count": 69,
   "metadata": {},
   "outputs": [],
   "source": [
    "def HammingDecode1(d):  \n",
    "    bitstring=list(d)\n",
    "    a = 0\n",
    "    b = 0\n",
    "    c = 0\n",
    "    e = 0\n",
    "    enc = []\n",
    "    err = 0\n",
    "    parity = []\n",
    "    enc_copied = []\n",
    "    bitstring.reverse()\n",
    "    \n",
    "    for i in range(0,len(bitstring)):\n",
    "        p=(2**a)\n",
    "        enc.append(int(bitstring[i]))\n",
    "        enc_copied.append(bitstring[i])\n",
    "        if(p==(i+1)):\n",
    "            a+=1\n",
    "            \n",
    "    for parit in range(0,(len(enc))):\n",
    "        f=(2**b)\n",
    "        if(f==(parit+1)):\n",
    "\n",
    "            Index=f-1\n",
    "            i=Index\n",
    "            Xor=[]\n",
    "\n",
    "            while(i<len(enc)):\n",
    "                iblock=enc[i:i+f]\n",
    "                Xor.extend(iblock)\n",
    "                i+=2*f\n",
    "\n",
    "            for j in range(1,len(Xor)):\n",
    "                enc[Index]=enc[Index]^Xor[j]\n",
    "            parity.append(enc[parit])\n",
    "            b = b + 1\n",
    "    parity.reverse()\n",
    "    err=sum(int(parity) * (2 ** k) for k, parity in enumerate(parity[::-1]))\n",
    "    \n",
    "    if((err)==0):\n",
    "        print('No error in the hamming code')\n",
    "\n",
    "    elif((err)>=len(enc_copied)):\n",
    "        print('Multiple errors: cannot correct')\n",
    "\n",
    "    else:\n",
    "        print('Error in',err,'bit')\n",
    "\n",
    "        if(enc_copied[err-1]=='0'):\n",
    "            enc_copied[err-1]='1'\n",
    "\n",
    "        elif(enc_copied[err-1]=='1'):\n",
    "            enc_copied[err-1]='0'\n",
    "            print('After correction:  ')\n",
    "        enc_copied.reverse()\n",
    "        print(int(''.join(map(str, enc_copied))))\n",
    "        dec = [enc_copied[1], enc_copied[2], enc_copied[3], enc_copied[4], enc_copied[5], enc_copied[6], enc_copied[7], enc_copied[8],enc_copied[9], enc_copied[10], enc_copied[11]]\n",
    "        return dec\n"
   ]
  },
  {
   "cell_type": "code",
   "execution_count": 70,
   "metadata": {},
   "outputs": [
    {
     "name": "stdout",
     "output_type": "stream",
     "text": [
      "Error in 7 bit\n",
      "111100111000001\n",
      "Error in 7 bit\n",
      "111111000001101\n",
      "Error in 4 bit\n",
      "10010001111110\n",
      "Error in 6 bit\n",
      "11011111000101\n",
      "Error in 2 bit\n",
      "10101010010\n",
      "Error in 2 bit\n",
      "10101101100010\n",
      "Error in 5 bit\n",
      "1101010111001\n",
      "Error in 6 bit\n",
      "10110010100001\n",
      "Error in 2 bit\n",
      "101110000010010\n",
      "Error in 1 bit\n",
      "11101001101110\n",
      "Error in 7 bit\n",
      "10011100000001\n",
      "Error in 5 bit\n",
      "100111000001100\n",
      "Error in 2 bit\n",
      "10100001010101\n"
     ]
    }
   ],
   "source": [
    "DecodedB = []\n",
    "for a in corruptedB:  \n",
    "    DecodedB.append(HammingDecode1(a))"
   ]
  },
  {
   "cell_type": "code",
   "execution_count": 73,
   "metadata": {},
   "outputs": [],
   "source": [
    "seq3 = ''\n",
    "for a in DecodedB:\n",
    "    for b in a:\n",
    "        seq3 = seq3 + str(b)"
   ]
  },
  {
   "cell_type": "code",
   "execution_count": 72,
   "metadata": {},
   "outputs": [
    {
     "data": {
      "text/plain": [
       "[[1, 1, 1, 0, 0, 1, 1, 1, 0, 0, 0],\n",
       " [1, 1, 1, 1, 1, 0, 0, 0, 0, 0, 1],\n",
       " [1, 0, 0, 1, 0, 0, 0, 1, 1, 1, 1],\n",
       " [1, 1, 0, 1, 1, 1, 1, 1, 0, 0, 0],\n",
       " [0, 0, 0, 1, 0, 1, 0, 1, 0, 1, 0],\n",
       " [1, 0, 1, 0, 1, 1, 0, 1, 1, 0, 0],\n",
       " [0, 1, 1, 0, 1, 0, 1, 0, 1, 1, 1],\n",
       " [1, 0, 1, 1, 0, 0, 1, 0, 1, 0, 0],\n",
       " [0, 1, 1, 1, 0, 0, 0, 0, 0, 1, 0],\n",
       " [1, 1, 1, 0, 1, 0, 0, 1, 1, 0, 1],\n",
       " [1, 0, 0, 1, 1, 1, 0, 0, 0, 0, 0],\n",
       " [0, 0, 1, 1, 1, 0, 0, 0, 0, 0, 1],\n",
       " [1, 0, 1, 0, 0, 0, 0, 1, 0, 1, 0]]"
      ]
     },
     "execution_count": 72,
     "metadata": {},
     "output_type": "execute_result"
    }
   ],
   "source": [
    "DecodedB"
   ]
  },
  {
   "cell_type": "code",
   "execution_count": 76,
   "metadata": {},
   "outputs": [
    {
     "data": {
      "text/plain": [
       "'1110101100011100100001000011011110100011100110101011010010111011001011000011011011010100101100100100111100110100001100000100011100010101101101100'"
      ]
     },
     "execution_count": 76,
     "metadata": {},
     "output_type": "execute_result"
    }
   ],
   "source": [
    "s1 #original"
   ]
  },
  {
   "cell_type": "code",
   "execution_count": 75,
   "metadata": {},
   "outputs": [
    {
     "data": {
      "text/plain": [
       "'11100111000111110000011001000111111011111000000101010101010110110001101010111101100101000111000001011101001101100111000000011100000110100001010'"
      ]
     },
     "execution_count": 75,
     "metadata": {},
     "output_type": "execute_result"
    }
   ],
   "source": [
    "seq3 #decoded "
   ]
  },
  {
   "cell_type": "code",
   "execution_count": 28,
   "metadata": {},
   "outputs": [],
   "source": []
  }
 ],
 "metadata": {
  "kernelspec": {
   "display_name": "Python 3",
   "language": "python",
   "name": "python3"
  },
  "language_info": {
   "codemirror_mode": {
    "name": "ipython",
    "version": 3
   },
   "file_extension": ".py",
   "mimetype": "text/x-python",
   "name": "python",
   "nbconvert_exporter": "python",
   "pygments_lexer": "ipython3",
   "version": "3.8.3"
  }
 },
 "nbformat": 4,
 "nbformat_minor": 4
}
