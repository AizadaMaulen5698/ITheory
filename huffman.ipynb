{
 "cells": [
  {
   "cell_type": "code",
   "execution_count": 16,
   "metadata": {},
   "outputs": [],
   "source": [
    "string = open('text.txt','r').read()"
   ]
  },
  {
   "cell_type": "code",
   "execution_count": 23,
   "metadata": {},
   "outputs": [],
   "source": [
    "# Creating tree nodes\n",
    "class Tree(object):\n",
    "\n",
    "    def __init__(self, left=None, right=None):\n",
    "        self.left = left\n",
    "        self.right = right\n",
    "\n",
    "    def children(self):\n",
    "        return (self.left, self.right)"
   ]
  },
  {
   "cell_type": "code",
   "execution_count": 24,
   "metadata": {},
   "outputs": [],
   "source": [
    "# Main function implementing huffman coding\n",
    "def huffman(node, left=True, bins=''):\n",
    "    if type(node) is str:\n",
    "        return {node: bins}\n",
    "    (l, r) = node.children()\n",
    "    d = dict()\n",
    "    d.update(huffman(l, True, bins + '0')) #go left\n",
    "    d.update(huffman(r, False, bins + '1')) #go right\n",
    "    return d"
   ]
  },
  {
   "cell_type": "code",
   "execution_count": 36,
   "metadata": {},
   "outputs": [
    {
     "name": "stdout",
     "output_type": "stream",
     "text": [
      "!   !  111  !  0.1643167028199566\n",
      "! e !  000  !  0.08947939262472886\n",
      "! a !  1001  !  0.06453362255965293\n",
      "! i !  1000  !  0.06344902386117136\n",
      "! n !  0110  !  0.056941431670282\n",
      "! o !  0101  !  0.0509761388286334\n",
      "! t !  0100  !  0.04772234273318872\n",
      "! s !  0010  !  0.046637744034707156\n",
      "! r !  11011  !  0.044468546637744036\n",
      "! d !  11000  !  0.03850325379609545\n",
      "! l !  10111  !  0.03796095444685466\n",
      "! h !  10110  !  0.03796095444685466\n",
      "! c !  110101  !  0.021149674620390455\n",
      "! u !  110011  !  0.020065075921908895\n",
      "! g !  110010  !  0.01898047722342733\n",
      "! f !  101011  !  0.01843817787418655\n",
      "! p !  011111  !  0.015726681127982648\n",
      "! m !  011110  !  0.015184381778741865\n",
      "! y !  011101  !  0.014099783080260303\n",
      "! w !  001110  !  0.01193058568329718\n",
      "! P !  001100  !  0.010845986984815618\n",
      "! . !  1101001  !  0.010845986984815618\n",
      "! \" !  1010101  !  0.009219088937093275\n",
      "! b !  1010100  !  0.008676789587852495\n",
      "! , !  1010011  !  0.008676789587852495\n",
      "! \n",
      " !  1010010  !  0.008676789587852495\n",
      "! v !  0111000  !  0.006507592190889371\n",
      "! A !  0011011  !  0.00596529284164859\n",
      "! k !  0011010  !  0.005422993492407809\n",
      "! ' !  10100000  !  0.003796095444685466\n",
      "! S !  01110010  !  0.0032537960954446853\n",
      "! E !  110100011  !  0.0027114967462039045\n",
      "! I !  110100010  !  0.0027114967462039045\n",
      "! C !  101000011  !  0.0021691973969631237\n",
      "! W !  101000010  !  0.0021691973969631237\n",
      "! F !  101000101  !  0.0021691973969631237\n",
      "! H !  101000100  !  0.0021691973969631237\n",
      "! Q !  011100110  !  0.0016268980477223427\n",
      "! R !  001111101  !  0.0016268980477223427\n",
      "! : !  001111100  !  0.0016268980477223427\n",
      "! B !  001111111  !  0.0016268980477223427\n",
      "! 9 !  001111110  !  0.0016268980477223427\n",
      "! 0 !  001111001  !  0.0016268980477223427\n",
      "! 1 !  001111000  !  0.0016268980477223427\n",
      "! T !  001111011  !  0.0016268980477223427\n",
      "! L !  0111001111  !  0.0010845986984815619\n",
      "! N !  0111001110  !  0.0010845986984815619\n",
      "! J !  1101000001  !  0.0010845986984815619\n",
      "! 2 !  1101000000  !  0.0010845986984815619\n",
      "! 6 !  1101000011  !  0.0010845986984815619\n",
      "! ( !  0011110100  !  0.0005422993492407809\n",
      "! ) !  00111101011  !  0.0005422993492407809\n",
      "! z !  00111101010  !  0.0005422993492407809\n",
      "! D !  10100011101  !  0.0005422993492407809\n",
      "! Y !  10100011100  !  0.0005422993492407809\n",
      "! - !  10100011111  !  0.0005422993492407809\n",
      "! U !  10100011110  !  0.0005422993492407809\n",
      "! x !  10100011001  !  0.0005422993492407809\n",
      "! & !  10100011000  !  0.0005422993492407809\n",
      "! # !  10100011011  !  0.0005422993492407809\n",
      "! 3 !  10100011010  !  0.0005422993492407809\n",
      "! ; !  11010000101  !  0.0005422993492407809\n",
      "! G !  11010000100  !  0.0005422993492407809\n"
     ]
    }
   ],
   "source": [
    "# Calculating frequency\n",
    "freq = {}\n",
    "prob = {}\n",
    "for c in string:\n",
    "    if c in freq:\n",
    "        freq[c] += 1\n",
    "    else:\n",
    "        freq[c] = 1\n",
    "\n",
    "s = sum(freq.values())\n",
    "for key in freq:\n",
    "    prob[key] = freq[key]/s\n",
    "\n",
    "freq = sorted(freq.items(), key=lambda x: x[1], reverse=True)\n",
    "\n",
    "nodes = freq\n",
    "\n",
    "while len(nodes) > 1:\n",
    "    (key1, c1) = nodes[-1]\n",
    "    (key2, c2) = nodes[-2]\n",
    "    nodes = nodes[:-2]\n",
    "    node = Tree(key1, key2)\n",
    "    nodes.append((node, c1 + c2))\n",
    "\n",
    "    nodes = sorted(nodes, key=lambda x: x[1], reverse=True)\n",
    "\n",
    "huffmanCode = huffman(nodes[0][0])\n",
    "\n",
    "for (char, frequency) in freq:\n",
    "    print('!',char,'! ', huffmanCode[char], ' ! ',   prob[char])"
   ]
  }
 ],
 "metadata": {
  "kernelspec": {
   "display_name": "Python 3",
   "language": "python",
   "name": "python3"
  },
  "language_info": {
   "codemirror_mode": {
    "name": "ipython",
    "version": 3
   },
   "file_extension": ".py",
   "mimetype": "text/x-python",
   "name": "python",
   "nbconvert_exporter": "python",
   "pygments_lexer": "ipython3",
   "version": "3.8.5"
  }
 },
 "nbformat": 4,
 "nbformat_minor": 4
}
