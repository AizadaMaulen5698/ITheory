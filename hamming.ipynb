{
 "cells": [
  {
   "cell_type": "code",
   "execution_count": 101,
   "metadata": {},
   "outputs": [],
   "source": [
    "string = open('text.txt','r').read()"
   ]
  },
  {
   "cell_type": "code",
   "execution_count": 102,
   "metadata": {},
   "outputs": [],
   "source": [
    "class Tree(object):\n",
    "\n",
    "    def __init__(self, left=None, right=None):\n",
    "        self.left = left\n",
    "        self.right = right\n",
    "\n",
    "    def children(self):\n",
    "        return (self.left, self.right)\n",
    "\n",
    "\n"
   ]
  },
  {
   "cell_type": "code",
   "execution_count": 103,
   "metadata": {},
   "outputs": [],
   "source": [
    "# Main function implementing huffman coding\n",
    "def huffman(node, left=True, bins=''):\n",
    "    if type(node) is str:\n",
    "        return {node: bins}\n",
    "    (l, r) = node.children()\n",
    "    d = dict()\n",
    "    d.update(huffman(l, True, bins + '0')) #go left\n",
    "    d.update(huffman(r, False, bins + '1')) #go right\n",
    "    return d"
   ]
  },
  {
   "cell_type": "code",
   "execution_count": 104,
   "metadata": {
    "scrolled": false
   },
   "outputs": [
    {
     "name": "stdout",
     "output_type": "stream",
     "text": [
      "h  -  110  -  0.152\n",
      "   -  011  -  0.121\n",
      "f  -  1111  -  0.091\n",
      "g  -  1110  -  0.091\n",
      "j  -  001  -  0.091\n",
      "k  -  000  -  0.091\n",
      "\n",
      "  -  1001  -  0.061\n",
      "v  -  1000  -  0.061\n",
      "u  -  1011  -  0.061\n",
      "y  -  1010  -  0.061\n",
      "b  -  01001  -  0.03\n",
      "o  -  01000  -  0.03\n",
      "i  -  01011  -  0.03\n",
      "c  -  01010  -  0.03\n"
     ]
    }
   ],
   "source": [
    "# Calculating frequency\n",
    "freq = {}\n",
    "prob = {}\n",
    "for c in string:\n",
    "    if c in freq:\n",
    "        freq[c] += 1\n",
    "    else:\n",
    "        freq[c] = 1\n",
    "\n",
    "s = sum(freq.values())\n",
    "for key in freq:\n",
    "    prob[key] = freq[key]/s\n",
    "\n",
    "freq = sorted(freq.items(), key=lambda x: x[1], reverse=True)\n",
    "\n",
    "nodes = freq\n",
    "\n",
    "while len(nodes) > 1:\n",
    "    (key1, c1) = nodes[-1]\n",
    "    (key2, c2) = nodes[-2]\n",
    "    nodes = nodes[:-2]\n",
    "    node = Tree(key1, key2)\n",
    "    nodes.append((node, c1 + c2))\n",
    "\n",
    "    nodes = sorted(nodes, key=lambda x: x[1], reverse=True)\n",
    "\n",
    "huffmanCode = huffman(nodes[0][0])\n",
    "\n",
    "for (char, frequency) in freq:\n",
    "    print(char,' - ', huffmanCode[char], ' - ',   round(prob[char], 3))"
   ]
  },
  {
   "cell_type": "code",
   "execution_count": 105,
   "metadata": {},
   "outputs": [],
   "source": [
    "s1 =  ''\n",
    "for (char, frequency) in freq:\n",
    "    s1 = s1 + huffmanCode[char]\n",
    "    \n",
    "original = s1"
   ]
  },
  {
   "cell_type": "code",
   "execution_count": 106,
   "metadata": {},
   "outputs": [],
   "source": [
    "import math\n",
    "l = math.ceil((len(s1)/4))\n",
    "\n",
    "\n",
    "\n",
    "\n",
    "\n"
   ]
  },
  {
   "cell_type": "code",
   "execution_count": 107,
   "metadata": {},
   "outputs": [
    {
     "name": "stdout",
     "output_type": "stream",
     "text": [
      "56\n"
     ]
    }
   ],
   "source": [
    "ls = len(s1)\n",
    "print(ls)\n"
   ]
  },
  {
   "cell_type": "code",
   "execution_count": 108,
   "metadata": {},
   "outputs": [],
   "source": [
    "i=0\n",
    "B = []\n",
    "B.append([])\n",
    "for x in range(0,l):\n",
    "    B.append([])\n",
    "    for y in range(0,4):\n",
    "        B[x].append(int(s1[i]))\n",
    "        i = i+1\n",
    "        if i == ls:\n",
    "            \n",
    "            break"
   ]
  },
  {
   "cell_type": "code",
   "execution_count": 109,
   "metadata": {},
   "outputs": [
    {
     "name": "stdout",
     "output_type": "stream",
     "text": [
      "[1, 1, 0, 0]\n",
      "[1, 1, 1, 1]\n",
      "[1, 1, 1, 1]\n",
      "[1, 0, 0, 0]\n",
      "[1, 0, 0, 0]\n",
      "[1, 0, 0, 1]\n",
      "[1, 0, 0, 0]\n",
      "[1, 0, 1, 1]\n",
      "[1, 0, 1, 0]\n",
      "[0, 1, 0, 0]\n",
      "[1, 0, 1, 0]\n",
      "[0, 0, 0, 1]\n",
      "[0, 1, 1, 0]\n",
      "[1, 0, 1, 0]\n"
     ]
    }
   ],
   "source": [
    "B.remove([])\n",
    "for a in B:        \n",
    "    while len(a)<4:\n",
    "        a.append(0)\n",
    "    print(a)"
   ]
  },
  {
   "cell_type": "code",
   "execution_count": 110,
   "metadata": {},
   "outputs": [
    {
     "name": "stdout",
     "output_type": "stream",
     "text": [
      "The data bits are  [0, 1, 1, 1]\n",
      "encoded data is [0, 1, 1, 1, 1, 0, 0]\n",
      "--------\n"
     ]
    },
    {
     "data": {
      "text/plain": [
       "[0, 1, 1, 1, 1, 0, 0]"
      ]
     },
     "execution_count": 110,
     "metadata": {},
     "output_type": "execute_result"
    }
   ],
   "source": [
    "def HammingEncode2(l):\n",
    "    print('The data bits are ', l)\n",
    "    newlist = l\n",
    "    p1 = l[1]+l[2]+l[3]\n",
    "    p2 = l[0]+l[2]+l[3]\n",
    "    p3 = l[0]+l[1]+l[3]\n",
    "    \n",
    "    if p1%2 == 0:\n",
    "        newlist.append(0)\n",
    "    else:\n",
    "        newlist.append(1)\n",
    "        \n",
    "    if p2%2 == 0:\n",
    "        newlist.append(0)\n",
    "    else:\n",
    "        newlist.append(1)\n",
    "        \n",
    "    if p3%2 == 0:\n",
    "        newlist.append(0)\n",
    "    else:\n",
    "        newlist.append(1)\n",
    "        \n",
    "    print('encoded data is', newlist)\n",
    "    print('--------')\n",
    "        \n",
    "    return newlist\n",
    "\n",
    "#test\n",
    "HammingEncode2([0,1,1,1])"
   ]
  },
  {
   "cell_type": "code",
   "execution_count": 111,
   "metadata": {
    "scrolled": false
   },
   "outputs": [
    {
     "name": "stdout",
     "output_type": "stream",
     "text": [
      "The data bits are  [1, 1, 0, 0]\n",
      "encoded data is [1, 1, 0, 0, 1, 1, 0]\n",
      "--------\n",
      "The data bits are  [1, 1, 1, 1]\n",
      "encoded data is [1, 1, 1, 1, 1, 1, 1]\n",
      "--------\n",
      "The data bits are  [1, 1, 1, 1]\n",
      "encoded data is [1, 1, 1, 1, 1, 1, 1]\n",
      "--------\n",
      "The data bits are  [1, 0, 0, 0]\n",
      "encoded data is [1, 0, 0, 0, 0, 1, 1]\n",
      "--------\n",
      "The data bits are  [1, 0, 0, 0]\n",
      "encoded data is [1, 0, 0, 0, 0, 1, 1]\n",
      "--------\n",
      "The data bits are  [1, 0, 0, 1]\n",
      "encoded data is [1, 0, 0, 1, 1, 0, 0]\n",
      "--------\n",
      "The data bits are  [1, 0, 0, 0]\n",
      "encoded data is [1, 0, 0, 0, 0, 1, 1]\n",
      "--------\n",
      "The data bits are  [1, 0, 1, 1]\n",
      "encoded data is [1, 0, 1, 1, 0, 1, 0]\n",
      "--------\n",
      "The data bits are  [1, 0, 1, 0]\n",
      "encoded data is [1, 0, 1, 0, 1, 0, 1]\n",
      "--------\n",
      "The data bits are  [0, 1, 0, 0]\n",
      "encoded data is [0, 1, 0, 0, 1, 0, 1]\n",
      "--------\n",
      "The data bits are  [1, 0, 1, 0]\n",
      "encoded data is [1, 0, 1, 0, 1, 0, 1]\n",
      "--------\n",
      "The data bits are  [0, 0, 0, 1]\n",
      "encoded data is [0, 0, 0, 1, 1, 1, 1]\n",
      "--------\n",
      "The data bits are  [0, 1, 1, 0]\n",
      "encoded data is [0, 1, 1, 0, 0, 1, 1]\n",
      "--------\n",
      "The data bits are  [1, 0, 1, 0]\n",
      "encoded data is [1, 0, 1, 0, 1, 0, 1]\n",
      "--------\n"
     ]
    }
   ],
   "source": [
    "encodedB = []\n",
    "for a in B:  \n",
    "    encodedB.append(HammingEncode2(a))\n",
    "    "
   ]
  },
  {
   "cell_type": "code",
   "execution_count": 112,
   "metadata": {},
   "outputs": [],
   "source": [
    "seq = ''\n",
    "for a in encodedB:\n",
    "    for b in a:\n",
    "        seq = seq + str(b)\n",
    "\n"
   ]
  },
  {
   "cell_type": "code",
   "execution_count": 113,
   "metadata": {},
   "outputs": [],
   "source": [
    "text_file = open(\"text2.txt\", \"w\")\n",
    "n = text_file.write(seq)\n",
    "text_file.close()\n"
   ]
  },
  {
   "cell_type": "markdown",
   "metadata": {},
   "source": [
    "# Assignment 7"
   ]
  },
  {
   "cell_type": "code",
   "execution_count": 114,
   "metadata": {},
   "outputs": [
    {
     "data": {
      "text/plain": [
       "'11001101111111111111110000111000011100110010000111011010101010101001011010101000111101100111010101'"
      ]
     },
     "execution_count": 114,
     "metadata": {},
     "output_type": "execute_result"
    }
   ],
   "source": [
    "s2 = open('text2.txt','r').read()\n",
    "s2"
   ]
  },
  {
   "cell_type": "code",
   "execution_count": 115,
   "metadata": {},
   "outputs": [],
   "source": [
    "l2 = math.ceil((len(s2)/7))\n",
    "ls2 = len(s2)"
   ]
  },
  {
   "cell_type": "code",
   "execution_count": 116,
   "metadata": {},
   "outputs": [],
   "source": [
    "i=0\n",
    "B = []\n",
    "B.append([])\n",
    "for x in range(0,l2):\n",
    "    B.append([])\n",
    "    for y in range(0,7):\n",
    "        B[x].append(int(s2[i]))\n",
    "        i = i+1\n",
    "        if i == ls2:\n",
    "            break"
   ]
  },
  {
   "cell_type": "code",
   "execution_count": 117,
   "metadata": {},
   "outputs": [
    {
     "name": "stdout",
     "output_type": "stream",
     "text": [
      "[1, 1, 0, 0, 1, 1, 0]\n",
      "[1, 1, 1, 1, 1, 1, 1]\n",
      "[1, 1, 1, 1, 1, 1, 1]\n",
      "[1, 0, 0, 0, 0, 1, 1]\n",
      "[1, 0, 0, 0, 0, 1, 1]\n",
      "[1, 0, 0, 1, 1, 0, 0]\n",
      "[1, 0, 0, 0, 0, 1, 1]\n",
      "[1, 0, 1, 1, 0, 1, 0]\n",
      "[1, 0, 1, 0, 1, 0, 1]\n",
      "[0, 1, 0, 0, 1, 0, 1]\n",
      "[1, 0, 1, 0, 1, 0, 1]\n",
      "[0, 0, 0, 1, 1, 1, 1]\n",
      "[0, 1, 1, 0, 0, 1, 1]\n",
      "[1, 0, 1, 0, 1, 0, 1]\n"
     ]
    }
   ],
   "source": [
    "B.remove([])\n",
    "for a in B:        \n",
    "    while len(a)<4:\n",
    "        a.append(0)\n",
    "    print(a)"
   ]
  },
  {
   "cell_type": "code",
   "execution_count": 118,
   "metadata": {},
   "outputs": [],
   "source": [
    "def ErrorGen(per, bitstring):\n",
    "    swap = {0:1, 1:0}\n",
    "    print('original: ',bitstring)\n",
    "    #prob = per/100\n",
    "    import random\n",
    "    #for _ in range(len(bitstring)):\n",
    "        #if random.uniform(0, 1) <= prob:\n",
    "    i = random.randint(0, 6)\n",
    "    bitstring[i]=swap[bitstring[i]]\n",
    "    print('corrupted: ',bitstring)\n",
    "    return bitstring    \n",
    "\n",
    "    "
   ]
  },
  {
   "cell_type": "code",
   "execution_count": 119,
   "metadata": {},
   "outputs": [
    {
     "name": "stdout",
     "output_type": "stream",
     "text": [
      "original:  [1, 1, 0, 0, 1, 1, 0]\n",
      "corrupted:  [1, 1, 0, 0, 1, 1, 1]\n",
      "original:  [1, 1, 1, 1, 1, 1, 1]\n",
      "corrupted:  [1, 1, 1, 1, 0, 1, 1]\n",
      "original:  [1, 1, 1, 1, 1, 1, 1]\n",
      "corrupted:  [0, 1, 1, 1, 1, 1, 1]\n",
      "original:  [1, 0, 0, 0, 0, 1, 1]\n",
      "corrupted:  [1, 0, 0, 0, 1, 1, 1]\n",
      "original:  [1, 0, 0, 0, 0, 1, 1]\n",
      "corrupted:  [1, 1, 0, 0, 0, 1, 1]\n",
      "original:  [1, 0, 0, 1, 1, 0, 0]\n",
      "corrupted:  [1, 0, 1, 1, 1, 0, 0]\n",
      "original:  [1, 0, 0, 0, 0, 1, 1]\n",
      "corrupted:  [1, 0, 0, 1, 0, 1, 1]\n",
      "original:  [1, 0, 1, 1, 0, 1, 0]\n",
      "corrupted:  [1, 0, 1, 1, 0, 0, 0]\n",
      "original:  [1, 0, 1, 0, 1, 0, 1]\n",
      "corrupted:  [1, 0, 1, 0, 0, 0, 1]\n",
      "original:  [0, 1, 0, 0, 1, 0, 1]\n",
      "corrupted:  [0, 1, 1, 0, 1, 0, 1]\n",
      "original:  [1, 0, 1, 0, 1, 0, 1]\n",
      "corrupted:  [1, 0, 1, 1, 1, 0, 1]\n",
      "original:  [0, 0, 0, 1, 1, 1, 1]\n",
      "corrupted:  [0, 0, 0, 1, 0, 1, 1]\n",
      "original:  [0, 1, 1, 0, 0, 1, 1]\n",
      "corrupted:  [0, 0, 1, 0, 0, 1, 1]\n",
      "original:  [1, 0, 1, 0, 1, 0, 1]\n",
      "corrupted:  [1, 0, 1, 0, 1, 1, 1]\n"
     ]
    }
   ],
   "source": [
    "corruptedB = []\n",
    "for a in B:  \n",
    "    corruptedB.append(ErrorGen(50, a))\n",
    "    "
   ]
  },
  {
   "cell_type": "code",
   "execution_count": 120,
   "metadata": {},
   "outputs": [],
   "source": [
    "\n",
    "def HammingDecode(bitstring):\n",
    "    swap = {0:1, 1:0}\n",
    "    p1 = True\n",
    "    p2 = True\n",
    "    p3 = True\n",
    "    print(bitstring, ':')\n",
    "    #p1 check:\n",
    "    if bitstring[1]+bitstring[2]+bitstring[3] == bitstring[4]:\n",
    "        print('p1 is correct')\n",
    "    else:\n",
    "        print('p1 is incorrect')\n",
    "        p1 = False\n",
    "     #p2 check:\n",
    "    if bitstring[0]+bitstring[2]+bitstring[3] == bitstring[5]:\n",
    "        print('p2 is correct')\n",
    "    else:\n",
    "        print('p2 is incorrect')\n",
    "        p2 = False\n",
    "     #p3 check:\n",
    "    if bitstring[1]+bitstring[0]+bitstring[3] == bitstring[6]:\n",
    "        print('p3 is correct')\n",
    "    else:\n",
    "        print('p3 is incorrect')\n",
    "        p3 = False\n",
    "    #syndrome\n",
    "    H = [[1, 0, 0, 0, 1, 1, 1],\n",
    "        [0, 1, 0, 1, 0, 1, 1],\n",
    "        [0, 0, 1, 1, 1, 0, 1]]  \n",
    "    result=[0,0,0]\n",
    "    for i in range(len(H)):\n",
    "        for k in range(len(bitstring)):\n",
    "            result[i] += H[i][k] * bitstring[k]\n",
    "    newlist = []        \n",
    "    for r in result:\n",
    "            \n",
    "        if r%2 == 0:\n",
    "            newlist.append(0)\n",
    "        else:\n",
    "            newlist.append(1)\n",
    "    print('syndrom:', newlist)\n",
    "    \n",
    "    if newlist == [0,0,0]:\n",
    "        print('no errors')\n",
    "    if newlist == [0,0,1]:\n",
    "        print('error in pos 7')\n",
    "        bitstring[6]=swap[bitstring[6]]\n",
    "    if newlist == [0,1,0]:\n",
    "        print('error in pos 6')\n",
    "        bitstring[5]=swap[bitstring[5]]\n",
    "    if newlist == [1,0,0]:\n",
    "        print('error in pos 5')\n",
    "        bitstring[4]=swap[bitstring[4]]\n",
    "    if newlist == [1,1,0]:\n",
    "        print('error in pos 2')\n",
    "        bitstring[1]=swap[bitstring[1]]\n",
    "    if newlist == [0,1,1]:\n",
    "        print('error in pos 4')\n",
    "        bitstring[3]=swap[bitstring[3]]\n",
    "    if newlist == [1,0,1]:\n",
    "        print('error in pos 1')\n",
    "        bitstring[0]=swap[bitstring[0]]\n",
    "    if newlist == [1,1,1]:\n",
    "        print('error in pos 3')\n",
    "        bitstring[2]=swap[bitstring[2]]\n",
    "        \n",
    "    print('decoded bs: ', bitstring)\n",
    "    new_b = [bitstring[0], bitstring[1], bitstring[2], bitstring[3]]\n",
    "    return(new_b)\n",
    "        \n",
    "    "
   ]
  },
  {
   "cell_type": "code",
   "execution_count": 121,
   "metadata": {},
   "outputs": [
    {
     "name": "stdout",
     "output_type": "stream",
     "text": [
      "[0, 1, 1, 0, 0, 1, 1] :\n",
      "p1 is incorrect\n",
      "p2 is correct\n",
      "p3 is correct\n",
      "syndrom: [0, 1, 0]\n",
      "error in pos 6\n",
      "decoded bs:  [0, 1, 1, 0, 0, 0, 1]\n"
     ]
    },
    {
     "data": {
      "text/plain": [
       "[0, 1, 1, 0]"
      ]
     },
     "execution_count": 121,
     "metadata": {},
     "output_type": "execute_result"
    }
   ],
   "source": [
    "#test \n",
    "HammingDecode([0, 1, 1, 0, 0, 1, 1])\n",
    "    "
   ]
  },
  {
   "cell_type": "code",
   "execution_count": 122,
   "metadata": {},
   "outputs": [
    {
     "name": "stdout",
     "output_type": "stream",
     "text": [
      "[1, 1, 0, 0, 1, 1, 1] :\n",
      "p1 is correct\n",
      "p2 is correct\n",
      "p3 is incorrect\n",
      "syndrom: [0, 1, 0]\n",
      "error in pos 6\n",
      "decoded bs:  [1, 1, 0, 0, 1, 0, 1]\n",
      "[1, 1, 1, 1, 0, 1, 1] :\n",
      "p1 is incorrect\n",
      "p2 is incorrect\n",
      "p3 is incorrect\n",
      "syndrom: [1, 0, 1]\n",
      "error in pos 1\n",
      "decoded bs:  [0, 1, 1, 1, 0, 1, 1]\n",
      "[0, 1, 1, 1, 1, 1, 1] :\n",
      "p1 is incorrect\n",
      "p2 is incorrect\n",
      "p3 is incorrect\n",
      "syndrom: [1, 0, 0]\n",
      "error in pos 5\n",
      "decoded bs:  [0, 1, 1, 1, 0, 1, 1]\n",
      "[1, 0, 0, 0, 1, 1, 1] :\n",
      "p1 is incorrect\n",
      "p2 is correct\n",
      "p3 is correct\n",
      "syndrom: [0, 0, 0]\n",
      "no errors\n",
      "decoded bs:  [1, 0, 0, 0, 1, 1, 1]\n",
      "[1, 1, 0, 0, 0, 1, 1] :\n",
      "p1 is incorrect\n",
      "p2 is correct\n",
      "p3 is incorrect\n",
      "syndrom: [1, 1, 1]\n",
      "error in pos 3\n",
      "decoded bs:  [1, 1, 1, 0, 0, 1, 1]\n",
      "[1, 0, 1, 1, 1, 0, 0] :\n",
      "p1 is incorrect\n",
      "p2 is incorrect\n",
      "p3 is incorrect\n",
      "syndrom: [0, 1, 1]\n",
      "error in pos 4\n",
      "decoded bs:  [1, 0, 1, 0, 1, 0, 0]\n",
      "[1, 0, 0, 1, 0, 1, 1] :\n",
      "p1 is incorrect\n",
      "p2 is incorrect\n",
      "p3 is incorrect\n",
      "syndrom: [1, 1, 0]\n",
      "error in pos 2\n",
      "decoded bs:  [1, 1, 0, 1, 0, 1, 1]\n",
      "[1, 0, 1, 1, 0, 0, 0] :\n",
      "p1 is incorrect\n",
      "p2 is incorrect\n",
      "p3 is incorrect\n",
      "syndrom: [1, 1, 0]\n",
      "error in pos 2\n",
      "decoded bs:  [1, 1, 1, 1, 0, 0, 0]\n",
      "[1, 0, 1, 0, 0, 0, 1] :\n",
      "p1 is incorrect\n",
      "p2 is incorrect\n",
      "p3 is correct\n",
      "syndrom: [0, 1, 0]\n",
      "error in pos 6\n",
      "decoded bs:  [1, 0, 1, 0, 0, 1, 1]\n",
      "[0, 1, 1, 0, 1, 0, 1] :\n",
      "p1 is incorrect\n",
      "p2 is incorrect\n",
      "p3 is correct\n",
      "syndrom: [0, 0, 1]\n",
      "error in pos 7\n",
      "decoded bs:  [0, 1, 1, 0, 1, 0, 0]\n",
      "[1, 0, 1, 1, 1, 0, 1] :\n",
      "p1 is incorrect\n",
      "p2 is incorrect\n",
      "p3 is incorrect\n",
      "syndrom: [1, 0, 0]\n",
      "error in pos 5\n",
      "decoded bs:  [1, 0, 1, 1, 0, 0, 1]\n",
      "[0, 0, 0, 1, 0, 1, 1] :\n",
      "p1 is incorrect\n",
      "p2 is correct\n",
      "p3 is correct\n",
      "syndrom: [0, 1, 0]\n",
      "error in pos 6\n",
      "decoded bs:  [0, 0, 0, 1, 0, 0, 1]\n",
      "[0, 0, 1, 0, 0, 1, 1] :\n",
      "p1 is incorrect\n",
      "p2 is correct\n",
      "p3 is incorrect\n",
      "syndrom: [0, 0, 0]\n",
      "no errors\n",
      "decoded bs:  [0, 0, 1, 0, 0, 1, 1]\n",
      "[1, 0, 1, 0, 1, 1, 1] :\n",
      "p1 is correct\n",
      "p2 is incorrect\n",
      "p3 is correct\n",
      "syndrom: [0, 0, 1]\n",
      "error in pos 7\n",
      "decoded bs:  [1, 0, 1, 0, 1, 1, 0]\n"
     ]
    }
   ],
   "source": [
    "decodedB = []\n",
    "for a in corruptedB:  \n",
    "    decodedB.append(HammingDecode(a))\n",
    "    "
   ]
  },
  {
   "cell_type": "code",
   "execution_count": 123,
   "metadata": {},
   "outputs": [
    {
     "data": {
      "text/plain": [
       "[[1, 1, 0, 0],\n",
       " [0, 1, 1, 1],\n",
       " [0, 1, 1, 1],\n",
       " [1, 0, 0, 0],\n",
       " [1, 1, 1, 0],\n",
       " [1, 0, 1, 0],\n",
       " [1, 1, 0, 1],\n",
       " [1, 1, 1, 1],\n",
       " [1, 0, 1, 0],\n",
       " [0, 1, 1, 0],\n",
       " [1, 0, 1, 1],\n",
       " [0, 0, 0, 1],\n",
       " [0, 0, 1, 0],\n",
       " [1, 0, 1, 0]]"
      ]
     },
     "execution_count": 123,
     "metadata": {},
     "output_type": "execute_result"
    }
   ],
   "source": [
    "decodedB"
   ]
  },
  {
   "cell_type": "code",
   "execution_count": 124,
   "metadata": {},
   "outputs": [],
   "source": [
    "seq_dec = ''\n",
    "for a in decodedB:\n",
    "    for b in a:\n",
    "        seq_dec = seq_dec + str(b)"
   ]
  },
  {
   "cell_type": "code",
   "execution_count": 125,
   "metadata": {},
   "outputs": [
    {
     "data": {
      "text/plain": [
       "'11000111011110001110101011011111101001101011000100101010'"
      ]
     },
     "execution_count": 125,
     "metadata": {},
     "output_type": "execute_result"
    }
   ],
   "source": [
    "seq_dec"
   ]
  },
  {
   "cell_type": "code",
   "execution_count": 128,
   "metadata": {},
   "outputs": [
    {
     "data": {
      "text/plain": [
       "'11000111011110001110101011011111101001101011000100101010'"
      ]
     },
     "execution_count": 128,
     "metadata": {},
     "output_type": "execute_result"
    }
   ],
   "source": [
    "original"
   ]
  },
  {
   "cell_type": "markdown",
   "metadata": {},
   "source": [
    "l = int((len(s1)/11))\n",
    "l"
   ]
  },
  {
   "cell_type": "code",
   "execution_count": 15,
   "metadata": {},
   "outputs": [
    {
     "data": {
      "text/plain": [
       "145"
      ]
     },
     "execution_count": 15,
     "metadata": {},
     "output_type": "execute_result"
    }
   ],
   "source": [
    "le = len(s1)\n",
    "le"
   ]
  },
  {
   "cell_type": "code",
   "execution_count": 16,
   "metadata": {},
   "outputs": [],
   "source": [
    "i=0\n",
    "B = []\n",
    "B.append([])\n",
    "for x in range(0,l):\n",
    "    B.append([])\n",
    "    for y in range(0,11):\n",
    "        B[x].append(int(s1[i]))\n",
    "        i = i+1\n",
    "        if i == ls:\n",
    "            \n",
    "            break"
   ]
  },
  {
   "cell_type": "code",
   "execution_count": 17,
   "metadata": {
    "scrolled": true
   },
   "outputs": [
    {
     "name": "stdout",
     "output_type": "stream",
     "text": [
      "[1, 1, 1, 0, 1, 0, 1, 1, 0, 0, 0]\n",
      "[1, 1, 1, 0, 0, 1, 0, 0, 0, 0, 1]\n",
      "[0, 0, 0, 0, 1, 1, 0, 1, 1, 1, 1]\n",
      "[0, 1, 0, 0, 0, 1, 1, 1, 0, 0, 1]\n",
      "[1, 0, 1, 0, 1, 0, 1, 1, 0, 1, 0]\n",
      "[0, 1, 0, 1, 1, 1, 0, 1, 1, 0, 0]\n",
      "[1, 0, 1, 1, 0, 0, 0, 0, 1, 1, 0]\n",
      "[1, 1, 0, 1, 1, 0, 1, 0, 1, 0, 0]\n",
      "[1, 0, 1, 1, 0, 0, 1, 0, 0, 1, 0]\n",
      "[0, 1, 1, 1, 1, 0, 0, 1, 1, 0, 1]\n",
      "[0, 0, 0, 0, 1, 1, 0, 0, 0, 0, 0]\n",
      "[1, 0, 0, 0, 1, 1, 1, 0, 0, 0, 1]\n",
      "[0, 1, 0, 1, 1, 0, 1, 1, 0, 1, 1]\n"
     ]
    }
   ],
   "source": [
    "B.remove([])\n",
    "for a in B:        \n",
    "    while len(a)<11:\n",
    "        a.append(0)\n",
    "    print(a)"
   ]
  },
  {
   "cell_type": "code",
   "execution_count": 127,
   "metadata": {},
   "outputs": [],
   "source": [
    "original = seq_dec"
   ]
  },
  {
   "cell_type": "code",
   "execution_count": 18,
   "metadata": {},
   "outputs": [],
   "source": [
    "def HammingEncode1(d):\n",
    "    string=list(d)\n",
    "    string.reverse()\n",
    "    a = 0\n",
    "    b = 0\n",
    "    c = 0\n",
    "    e = 0\n",
    "    enc = []\n",
    "\n",
    "    while ((len(d)+e+1)>(pow(2,e))):\n",
    "        e+=1\n",
    "\n",
    "    for i in range(0,(e+len(string))):\n",
    "        s=(2**a)\n",
    "\n",
    "        if(s==(i+1)):\n",
    "            enc.append(0)\n",
    "            a+=1\n",
    "\n",
    "        else:\n",
    "            enc.append(int(string[c]))\n",
    "            c+=1\n",
    "\n",
    "    for parit in range(0,(len(enc))):\n",
    "        p=(2**b)\n",
    "        if(p==(parit+1)):\n",
    "            Index=p-1\n",
    "            i=Index\n",
    "            Xor=[]\n",
    "\n",
    "            while(i<len(enc)):\n",
    "                bl=enc[i:i+p]\n",
    "                Xor.extend(bl)\n",
    "                i+=2*p\n",
    "\n",
    "            for j in range(1,len(Xor)):\n",
    "                enc[Index]=enc[Index]^Xor[j]\n",
    "            b+=1\n",
    "\n",
    "    enc.reverse()\n",
    "    print('Generated hamming code is ', end=\"\")\n",
    "    print(int(''.join(map(str, enc))))\n",
    "    \n",
    "    return enc\n",
    "\n"
   ]
  },
  {
   "cell_type": "code",
   "execution_count": 19,
   "metadata": {},
   "outputs": [
    {
     "name": "stdout",
     "output_type": "stream",
     "text": [
      "Generated hamming code is 111010111000001\n",
      "Generated hamming code is 111001000001101\n",
      "Generated hamming code is 11001111110\n",
      "Generated hamming code is 10001111000101\n",
      "Generated hamming code is 101010101010010\n",
      "Generated hamming code is 10111001100010\n",
      "Generated hamming code is 101100010111001\n",
      "Generated hamming code is 110110110100001\n",
      "Generated hamming code is 101100100010010\n",
      "Generated hamming code is 11110001101110\n",
      "Generated hamming code is 11000000001\n",
      "Generated hamming code is 100011100001100\n",
      "Generated hamming code is 10110101010101\n"
     ]
    }
   ],
   "source": [
    "encodedB = []\n",
    "for a in B:  \n",
    "    encodedB.append(HammingEncode1(a))"
   ]
  },
  {
   "cell_type": "code",
   "execution_count": 20,
   "metadata": {},
   "outputs": [],
   "source": [
    "seq = ''\n",
    "for a in encodedB:\n",
    "    for b in a:\n",
    "        seq = seq + str(b)"
   ]
  },
  {
   "cell_type": "code",
   "execution_count": 21,
   "metadata": {},
   "outputs": [
    {
     "data": {
      "text/plain": [
       "'111010111000001111001000001101000011001111110010001111000101101010101010010010111001100010101100010111001110110110100001101100100010010011110001101110000011000000001100011100001100010110101010101'"
      ]
     },
     "execution_count": 21,
     "metadata": {},
     "output_type": "execute_result"
    }
   ],
   "source": [
    "seq"
   ]
  },
  {
   "cell_type": "code",
   "execution_count": null,
   "metadata": {},
   "outputs": [],
   "source": []
  },
  {
   "cell_type": "code",
   "execution_count": null,
   "metadata": {},
   "outputs": [],
   "source": []
  }
 ],
 "metadata": {
  "kernelspec": {
   "display_name": "Python 3",
   "language": "python",
   "name": "python3"
  },
  "language_info": {
   "codemirror_mode": {
    "name": "ipython",
    "version": 3
   },
   "file_extension": ".py",
   "mimetype": "text/x-python",
   "name": "python",
   "nbconvert_exporter": "python",
   "pygments_lexer": "ipython3",
   "version": "3.8.5"
  }
 },
 "nbformat": 4,
 "nbformat_minor": 4
}
