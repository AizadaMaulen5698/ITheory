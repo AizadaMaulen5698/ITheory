{
 "cells": [
  {
   "cell_type": "code",
   "execution_count": 1,
   "metadata": {},
   "outputs": [],
   "source": [
    "string = open('text.txt','r').read()"
   ]
  },
  {
   "cell_type": "code",
   "execution_count": 2,
   "metadata": {},
   "outputs": [],
   "source": [
    "# Creating tree nodes\n",
    "class Tree(object):\n",
    "\n",
    "    def __init__(self, left=None, right=None):\n",
    "        self.left = left\n",
    "        self.right = right\n",
    "\n",
    "    def children(self):\n",
    "        return (self.left, self.right)"
   ]
  },
  {
   "cell_type": "code",
   "execution_count": 3,
   "metadata": {},
   "outputs": [],
   "source": [
    "# Main function implementing huffman coding\n",
    "def huffman(node, left=True, bins=''):\n",
    "    if type(node) is str:\n",
    "        return {node: bins}\n",
    "    (l, r) = node.children()\n",
    "    d = dict()\n",
    "    d.update(huffman(l, True, bins + '0')) #go left\n",
    "    d.update(huffman(r, False, bins + '1')) #go right\n",
    "    return d\n",
    "\n"
   ]
  },
  {
   "cell_type": "code",
   "execution_count": 4,
   "metadata": {},
   "outputs": [
    {
     "name": "stdout",
     "output_type": "stream",
     "text": [
      "   -  111  -  0.145\n",
      "e  -  010  -  0.113\n",
      "n  -  1100  -  0.065\n",
      "i  -  0111  -  0.065\n",
      "d  -  0010  -  0.048\n",
      "b  -  0001  -  0.048\n",
      "t  -  0000  -  0.048\n",
      "h  -  11011  -  0.048\n",
      "o  -  11010  -  0.032\n",
      "N  -  00111  -  0.032\n",
      "l  -  00110  -  0.032\n",
      "a  -  10101  -  0.032\n",
      "I  -  10100  -  0.032\n",
      "s  -  10111  -  0.032\n",
      "L  -  011001  -  0.016\n",
      "(  -  011000  -  0.016\n",
      "C  -  011011  -  0.016\n",
      ")  -  011010  -  0.016\n",
      "Q  -  100101  -  0.016\n",
      "u  -  100100  -  0.016\n",
      "E  -  100111  -  0.016\n",
      "z  -  100110  -  0.016\n",
      "\n",
      "  -  100001  -  0.016\n",
      "c  -  100000  -  0.016\n",
      "r  -  100011  -  0.016\n",
      "g  -  100010  -  0.016\n",
      "f  -  101101  -  0.016\n",
      "W  -  101100  -  0.016\n"
     ]
    }
   ],
   "source": [
    "# Calculating frequency\n",
    "freq = {}\n",
    "prob = {}\n",
    "for c in string:\n",
    "    if c in freq:\n",
    "        freq[c] += 1\n",
    "    else:\n",
    "        freq[c] = 1\n",
    "\n",
    "s = sum(freq.values())\n",
    "for key in freq:\n",
    "    prob[key] = freq[key]/s\n",
    "\n",
    "freq = sorted(freq.items(), key=lambda x: x[1], reverse=True)\n",
    "\n",
    "nodes = freq\n",
    "\n",
    "while len(nodes) > 1:\n",
    "    (key1, c1) = nodes[-1]\n",
    "    (key2, c2) = nodes[-2]\n",
    "    nodes = nodes[:-2]\n",
    "    node = Tree(key1, key2)\n",
    "    nodes.append((node, c1 + c2))\n",
    "\n",
    "    nodes = sorted(nodes, key=lambda x: x[1], reverse=True)\n",
    "\n",
    "huffmanCode = huffman(nodes[0][0])\n",
    "\n",
    "for (char, frequency) in freq:\n",
    "    print(char,' - ', huffmanCode[char], ' - ',   round(prob[char], 3))"
   ]
  },
  {
   "cell_type": "markdown",
   "metadata": {},
   "source": [
    "step 1."
   ]
  },
  {
   "cell_type": "code",
   "execution_count": 66,
   "metadata": {},
   "outputs": [
    {
     "data": {
      "text/plain": [
       "'1110101100011100100001000011011110100011100110101011010010111011001011000011011011010100101100100100111100110100001100000100011100010101101101100'"
      ]
     },
     "execution_count": 66,
     "metadata": {},
     "output_type": "execute_result"
    }
   ],
   "source": [
    "s1 =  ''\n",
    "for (char, frequency) in freq:\n",
    "    s1 = s1 + huffmanCode[char]\n",
    "    \n",
    "s1"
   ]
  },
  {
   "cell_type": "markdown",
   "metadata": {},
   "source": [
    "step 2."
   ]
  },
  {
   "cell_type": "code",
   "execution_count": 67,
   "metadata": {},
   "outputs": [],
   "source": [
    "import math\n",
    "l = math.ceil((len(s1)/4))"
   ]
  },
  {
   "cell_type": "code",
   "execution_count": 68,
   "metadata": {},
   "outputs": [
    {
     "data": {
      "text/plain": [
       "37"
      ]
     },
     "execution_count": 68,
     "metadata": {},
     "output_type": "execute_result"
    }
   ],
   "source": [
    "l"
   ]
  },
  {
   "cell_type": "code",
   "execution_count": 69,
   "metadata": {},
   "outputs": [
    {
     "name": "stdout",
     "output_type": "stream",
     "text": [
      "145\n"
     ]
    }
   ],
   "source": [
    "ls = len(s1)\n",
    "print(ls)"
   ]
  },
  {
   "cell_type": "code",
   "execution_count": 70,
   "metadata": {},
   "outputs": [],
   "source": [
    "i=0\n",
    "B = []\n",
    "B.append([])\n",
    "for x in range(0,l):\n",
    "    B.append([])\n",
    "    for y in range(0,4):\n",
    "        B[x].append(int(s1[i]))\n",
    "        i = i+1\n",
    "        if i == ls:\n",
    "            \n",
    "            break\n",
    "        \n",
    "    "
   ]
  },
  {
   "cell_type": "code",
   "execution_count": 71,
   "metadata": {},
   "outputs": [
    {
     "name": "stdout",
     "output_type": "stream",
     "text": [
      "[1, 1, 1, 0]\n",
      "[1, 0, 1, 1]\n",
      "[0, 0, 0, 1]\n",
      "[1, 1, 0, 0]\n",
      "[1, 0, 0, 0]\n",
      "[0, 1, 0, 0]\n",
      "[0, 0, 1, 1]\n",
      "[0, 1, 1, 1]\n",
      "[1, 0, 1, 0]\n",
      "[0, 0, 1, 1]\n",
      "[1, 0, 0, 1]\n",
      "[1, 0, 1, 0]\n",
      "[1, 0, 1, 1]\n",
      "[0, 1, 0, 0]\n",
      "[1, 0, 1, 1]\n",
      "[1, 0, 1, 1]\n",
      "[0, 0, 1, 0]\n",
      "[1, 1, 0, 0]\n",
      "[0, 0, 1, 1]\n",
      "[0, 1, 1, 0]\n",
      "[1, 1, 0, 1]\n",
      "[0, 1, 0, 0]\n",
      "[1, 0, 1, 1]\n",
      "[0, 0, 1, 0]\n",
      "[0, 1, 0, 0]\n",
      "[1, 1, 1, 1]\n",
      "[0, 0, 1, 1]\n",
      "[0, 1, 0, 0]\n",
      "[0, 0, 1, 1]\n",
      "[0, 0, 0, 0]\n",
      "[0, 1, 0, 0]\n",
      "[0, 1, 1, 1]\n",
      "[0, 0, 0, 1]\n",
      "[0, 1, 0, 1]\n",
      "[1, 0, 1, 1]\n",
      "[0, 1, 1, 0]\n",
      "[0, 0, 0, 0]\n"
     ]
    }
   ],
   "source": [
    "B.remove([])\n",
    "for a in B:        \n",
    "    while len(a)<4:\n",
    "        a.append(0)\n",
    "    print(a)\n",
    "    "
   ]
  },
  {
   "cell_type": "markdown",
   "metadata": {},
   "source": [
    "step 3."
   ]
  },
  {
   "cell_type": "code",
   "execution_count": 72,
   "metadata": {},
   "outputs": [
    {
     "name": "stdout",
     "output_type": "stream",
     "text": [
      "The data bits are  [0, 1, 1, 1]\n",
      "encoded data [0, 1, 1, 1, 1, 0, 0]\n"
     ]
    },
    {
     "data": {
      "text/plain": [
       "[0, 1, 1, 1, 1, 0, 0]"
      ]
     },
     "execution_count": 72,
     "metadata": {},
     "output_type": "execute_result"
    }
   ],
   "source": [
    "def HammingEncode2(l):\n",
    "    print('The data bits are ', l)\n",
    "    newlist = l\n",
    "    p1 = l[1]+l[2]+l[3]\n",
    "    p2 = l[0]+l[2]+l[3]\n",
    "    p3 = l[0]+l[1]+l[3]\n",
    "    \n",
    "    if p1%2 == 0:\n",
    "        newlist.append(0)\n",
    "    else:\n",
    "        newlist.append(1)\n",
    "        \n",
    "    if p2%2 == 0:\n",
    "        newlist.append(0)\n",
    "    else:\n",
    "        newlist.append(1)\n",
    "        \n",
    "    if p3%2 == 0:\n",
    "        newlist.append(0)\n",
    "    else:\n",
    "        newlist.append(1)\n",
    "        \n",
    "    print('encoded data is', newlist)\n",
    "    print('--------')\n",
    "        \n",
    "    return newlist\n",
    "\n",
    "#test\n",
    "HammingEncode2([0,1,1,1])"
   ]
  },
  {
   "cell_type": "markdown",
   "metadata": {},
   "source": [
    "step 4."
   ]
  },
  {
   "cell_type": "code",
   "execution_count": 73,
   "metadata": {},
   "outputs": [
    {
     "name": "stdout",
     "output_type": "stream",
     "text": [
      "The data bits are  [1, 1, 1, 0]\n",
      "encoded data [1, 1, 1, 0, 0, 0, 0]\n",
      "The data bits are  [1, 0, 1, 1]\n",
      "encoded data [1, 0, 1, 1, 0, 1, 0]\n",
      "The data bits are  [0, 0, 0, 1]\n",
      "encoded data [0, 0, 0, 1, 1, 1, 1]\n",
      "The data bits are  [1, 1, 0, 0]\n",
      "encoded data [1, 1, 0, 0, 1, 1, 0]\n",
      "The data bits are  [1, 0, 0, 0]\n",
      "encoded data [1, 0, 0, 0, 0, 1, 1]\n",
      "The data bits are  [0, 1, 0, 0]\n",
      "encoded data [0, 1, 0, 0, 1, 0, 1]\n",
      "The data bits are  [0, 0, 1, 1]\n",
      "encoded data [0, 0, 1, 1, 0, 0, 1]\n",
      "The data bits are  [0, 1, 1, 1]\n",
      "encoded data [0, 1, 1, 1, 1, 0, 0]\n",
      "The data bits are  [1, 0, 1, 0]\n",
      "encoded data [1, 0, 1, 0, 1, 0, 1]\n",
      "The data bits are  [0, 0, 1, 1]\n",
      "encoded data [0, 0, 1, 1, 0, 0, 1]\n",
      "The data bits are  [1, 0, 0, 1]\n",
      "encoded data [1, 0, 0, 1, 1, 0, 0]\n",
      "The data bits are  [1, 0, 1, 0]\n",
      "encoded data [1, 0, 1, 0, 1, 0, 1]\n",
      "The data bits are  [1, 0, 1, 1]\n",
      "encoded data [1, 0, 1, 1, 0, 1, 0]\n",
      "The data bits are  [0, 1, 0, 0]\n",
      "encoded data [0, 1, 0, 0, 1, 0, 1]\n",
      "The data bits are  [1, 0, 1, 1]\n",
      "encoded data [1, 0, 1, 1, 0, 1, 0]\n",
      "The data bits are  [1, 0, 1, 1]\n",
      "encoded data [1, 0, 1, 1, 0, 1, 0]\n",
      "The data bits are  [0, 0, 1, 0]\n",
      "encoded data [0, 0, 1, 0, 1, 1, 0]\n",
      "The data bits are  [1, 1, 0, 0]\n",
      "encoded data [1, 1, 0, 0, 1, 1, 0]\n",
      "The data bits are  [0, 0, 1, 1]\n",
      "encoded data [0, 0, 1, 1, 0, 0, 1]\n",
      "The data bits are  [0, 1, 1, 0]\n",
      "encoded data [0, 1, 1, 0, 0, 1, 1]\n",
      "The data bits are  [1, 1, 0, 1]\n",
      "encoded data [1, 1, 0, 1, 0, 0, 1]\n",
      "The data bits are  [0, 1, 0, 0]\n",
      "encoded data [0, 1, 0, 0, 1, 0, 1]\n",
      "The data bits are  [1, 0, 1, 1]\n",
      "encoded data [1, 0, 1, 1, 0, 1, 0]\n",
      "The data bits are  [0, 0, 1, 0]\n",
      "encoded data [0, 0, 1, 0, 1, 1, 0]\n",
      "The data bits are  [0, 1, 0, 0]\n",
      "encoded data [0, 1, 0, 0, 1, 0, 1]\n",
      "The data bits are  [1, 1, 1, 1]\n",
      "encoded data [1, 1, 1, 1, 1, 1, 1]\n",
      "The data bits are  [0, 0, 1, 1]\n",
      "encoded data [0, 0, 1, 1, 0, 0, 1]\n",
      "The data bits are  [0, 1, 0, 0]\n",
      "encoded data [0, 1, 0, 0, 1, 0, 1]\n",
      "The data bits are  [0, 0, 1, 1]\n",
      "encoded data [0, 0, 1, 1, 0, 0, 1]\n",
      "The data bits are  [0, 0, 0, 0]\n",
      "encoded data [0, 0, 0, 0, 0, 0, 0]\n",
      "The data bits are  [0, 1, 0, 0]\n",
      "encoded data [0, 1, 0, 0, 1, 0, 1]\n",
      "The data bits are  [0, 1, 1, 1]\n",
      "encoded data [0, 1, 1, 1, 1, 0, 0]\n",
      "The data bits are  [0, 0, 0, 1]\n",
      "encoded data [0, 0, 0, 1, 1, 1, 1]\n",
      "The data bits are  [0, 1, 0, 1]\n",
      "encoded data [0, 1, 0, 1, 0, 1, 0]\n",
      "The data bits are  [1, 0, 1, 1]\n",
      "encoded data [1, 0, 1, 1, 0, 1, 0]\n",
      "The data bits are  [0, 1, 1, 0]\n",
      "encoded data [0, 1, 1, 0, 0, 1, 1]\n",
      "The data bits are  [0, 0, 0, 0]\n",
      "encoded data [0, 0, 0, 0, 0, 0, 0]\n"
     ]
    }
   ],
   "source": [
    "encodedB = []\n",
    "for a in B:  \n",
    "    encodedB.append(HammingEncode2(a))\n",
    "    "
   ]
  },
  {
   "cell_type": "markdown",
   "metadata": {},
   "source": [
    "step 5."
   ]
  },
  {
   "cell_type": "code",
   "execution_count": 75,
   "metadata": {},
   "outputs": [],
   "source": [
    "seq = ''\n",
    "for a in encodedB:\n",
    "    for b in a:\n",
    "        seq = seq + str(b)"
   ]
  },
  {
   "cell_type": "code",
   "execution_count": 76,
   "metadata": {},
   "outputs": [
    {
     "data": {
      "text/plain": [
       "'1110000101101000011111100110100001101001010011001011110010101010011001100110010101011011010010010110110101011010001011011001100011001011001111010010100101101101000101100100101111111100110010100101001100100000000100101011110000011110101010101101001100110000000'"
      ]
     },
     "execution_count": 76,
     "metadata": {},
     "output_type": "execute_result"
    }
   ],
   "source": [
    "seq"
   ]
  },
  {
   "cell_type": "code",
   "execution_count": 77,
   "metadata": {},
   "outputs": [],
   "source": [
    "text_file = open(\"text2.txt\", \"w\")\n",
    "n = text_file.write(seq)\n",
    "text_file.close()"
   ]
  },
  {
   "cell_type": "code",
   "execution_count": null,
   "metadata": {},
   "outputs": [],
   "source": []
  }
 ],
 "metadata": {
  "kernelspec": {
   "display_name": "Python 3",
   "language": "python",
   "name": "python3"
  },
  "language_info": {
   "codemirror_mode": {
    "name": "ipython",
    "version": 3
   },
   "file_extension": ".py",
   "mimetype": "text/x-python",
   "name": "python",
   "nbconvert_exporter": "python",
   "pygments_lexer": "ipython3",
   "version": "3.8.5"
  }
 },
 "nbformat": 4,
 "nbformat_minor": 4
}
