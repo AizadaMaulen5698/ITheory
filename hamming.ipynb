{
 "cells": [
  {
   "cell_type": "code",
   "execution_count": 1,
   "metadata": {},
   "outputs": [],
   "source": [
    "string = open('text.txt','r').read()"
   ]
  },
  {
   "cell_type": "code",
   "execution_count": 2,
   "metadata": {},
   "outputs": [],
   "source": [
    "class Tree(object):\n",
    "\n",
    "    def __init__(self, left=None, right=None):\n",
    "        self.left = left\n",
    "        self.right = right\n",
    "\n",
    "    def children(self):\n",
    "        return (self.left, self.right)\n",
    "\n",
    "\n"
   ]
  },
  {
   "cell_type": "code",
   "execution_count": 3,
   "metadata": {},
   "outputs": [],
   "source": [
    "# Main function implementing huffman coding\n",
    "def huffman(node, left=True, bins=''):\n",
    "    if type(node) is str:\n",
    "        return {node: bins}\n",
    "    (l, r) = node.children()\n",
    "    d = dict()\n",
    "    d.update(huffman(l, True, bins + '0')) #go left\n",
    "    d.update(huffman(r, False, bins + '1')) #go right\n",
    "    return d"
   ]
  },
  {
   "cell_type": "code",
   "execution_count": 4,
   "metadata": {},
   "outputs": [
    {
     "name": "stdout",
     "output_type": "stream",
     "text": [
      "   -  110  -  0.158\n",
      "e  -  011  -  0.103\n",
      "i  -  1110  -  0.079\n",
      "n  -  1010  -  0.067\n",
      "h  -  1000  -  0.061\n",
      "d  -  0101  -  0.055\n",
      "a  -  0100  -  0.048\n",
      "r  -  11111  -  0.048\n",
      "t  -  10111  -  0.036\n",
      "s  -  10110  -  0.036\n",
      "o  -  00101  -  0.024\n",
      "u  -  00100  -  0.024\n",
      "l  -  00111  -  0.024\n",
      "b  -  00110  -  0.024\n",
      "c  -  100111  -  0.018\n",
      "f  -  100110  -  0.018\n",
      "P  -  100101  -  0.018\n",
      "N  -  100100  -  0.012\n",
      "I  -  1111001  -  0.012\n",
      "g  -  1111000  -  0.012\n",
      "w  -  1111011  -  0.012\n",
      "\"  -  1111010  -  0.012\n",
      "L  -  0000101  -  0.006\n",
      "(  -  0000100  -  0.006\n",
      "C  -  0000111  -  0.006\n",
      ")  -  0000110  -  0.006\n",
      "Q  -  0000001  -  0.006\n",
      "E  -  0000000  -  0.006\n",
      "z  -  0000011  -  0.006\n",
      "v  -  0000010  -  0.006\n",
      "p  -  0001101  -  0.006\n",
      "'  -  0001100  -  0.006\n",
      ",  -  0001111  -  0.006\n",
      "A  -  0001110  -  0.006\n",
      "S  -  0001001  -  0.006\n",
      "y  -  0001000  -  0.006\n",
      ".  -  0001011  -  0.006\n",
      "\n",
      "  -  0001010  -  0.006\n"
     ]
    }
   ],
   "source": [
    "# Calculating frequency\n",
    "freq = {}\n",
    "prob = {}\n",
    "for c in string:\n",
    "    if c in freq:\n",
    "        freq[c] += 1\n",
    "    else:\n",
    "        freq[c] = 1\n",
    "\n",
    "s = sum(freq.values())\n",
    "for key in freq:\n",
    "    prob[key] = freq[key]/s\n",
    "\n",
    "freq = sorted(freq.items(), key=lambda x: x[1], reverse=True)\n",
    "\n",
    "nodes = freq\n",
    "\n",
    "while len(nodes) > 1:\n",
    "    (key1, c1) = nodes[-1]\n",
    "    (key2, c2) = nodes[-2]\n",
    "    nodes = nodes[:-2]\n",
    "    node = Tree(key1, key2)\n",
    "    nodes.append((node, c1 + c2))\n",
    "\n",
    "    nodes = sorted(nodes, key=lambda x: x[1], reverse=True)\n",
    "\n",
    "huffmanCode = huffman(nodes[0][0])\n",
    "\n",
    "for (char, frequency) in freq:\n",
    "    print(char,' - ', huffmanCode[char], ' - ',   round(prob[char], 3))"
   ]
  },
  {
   "cell_type": "code",
   "execution_count": 5,
   "metadata": {},
   "outputs": [
    {
     "data": {
      "text/plain": [
       "'110011111010101000010101001111110111101100010100100001110011010011110011010010110010011110011111000111101111110100000101000010000001110000110000000100000000000011000001000011010001100000111100011100001001000100000010110001010'"
      ]
     },
     "execution_count": 5,
     "metadata": {},
     "output_type": "execute_result"
    }
   ],
   "source": [
    "s1 =  ''\n",
    "for (char, frequency) in freq:\n",
    "    s1 = s1 + huffmanCode[char]\n",
    "    \n",
    "s1"
   ]
  },
  {
   "cell_type": "code",
   "execution_count": 6,
   "metadata": {},
   "outputs": [
    {
     "data": {
      "text/plain": [
       "20"
      ]
     },
     "execution_count": 6,
     "metadata": {},
     "output_type": "execute_result"
    }
   ],
   "source": [
    "l = int((len(s1)/11))\n",
    "l"
   ]
  },
  {
   "cell_type": "code",
   "execution_count": 7,
   "metadata": {},
   "outputs": [
    {
     "data": {
      "text/plain": [
       "225"
      ]
     },
     "execution_count": 7,
     "metadata": {},
     "output_type": "execute_result"
    }
   ],
   "source": [
    "ls = len(s1)\n",
    "ls"
   ]
  },
  {
   "cell_type": "code",
   "execution_count": 8,
   "metadata": {},
   "outputs": [],
   "source": [
    "i=0\n",
    "B = []\n",
    "B.append([])\n",
    "for x in range(0,l):\n",
    "    B.append([])\n",
    "    for y in range(0,11):\n",
    "        B[x].append(int(s1[i]))\n",
    "        i = i+1\n",
    "        if i == ls:\n",
    "            \n",
    "            break"
   ]
  },
  {
   "cell_type": "code",
   "execution_count": 9,
   "metadata": {
    "scrolled": true
   },
   "outputs": [
    {
     "name": "stdout",
     "output_type": "stream",
     "text": [
      "[1, 1, 0, 0, 1, 1, 1, 1, 1, 0, 1]\n",
      "[0, 1, 0, 1, 0, 0, 0, 0, 1, 0, 1]\n",
      "[0, 1, 0, 0, 1, 1, 1, 1, 1, 1, 0]\n",
      "[1, 1, 1, 1, 0, 1, 1, 0, 0, 0, 1]\n",
      "[0, 1, 0, 0, 1, 0, 0, 0, 0, 1, 1]\n",
      "[1, 0, 0, 1, 1, 0, 1, 0, 0, 1, 1]\n",
      "[1, 1, 0, 0, 1, 1, 0, 1, 0, 0, 1]\n",
      "[0, 1, 1, 0, 0, 1, 0, 0, 1, 1, 1]\n",
      "[1, 0, 0, 1, 1, 1, 1, 1, 0, 0, 0]\n",
      "[1, 1, 1, 1, 0, 1, 1, 1, 1, 1, 1]\n",
      "[0, 1, 0, 0, 0, 0, 0, 1, 0, 1, 0]\n",
      "[0, 0, 0, 1, 0, 0, 0, 0, 0, 0, 1]\n",
      "[1, 1, 0, 0, 0, 0, 1, 1, 0, 0, 0]\n",
      "[0, 0, 0, 0, 1, 0, 0, 0, 0, 0, 0]\n",
      "[0, 0, 0, 0, 0, 0, 1, 1, 0, 0, 0]\n",
      "[0, 0, 1, 0, 0, 0, 0, 1, 1, 0, 1]\n",
      "[0, 0, 0, 1, 1, 0, 0, 0, 0, 0, 1]\n",
      "[1, 1, 1, 0, 0, 0, 1, 1, 1, 0, 0]\n",
      "[0, 0, 1, 0, 0, 1, 0, 0, 0, 1, 0]\n",
      "[0, 0, 0, 0, 0, 1, 0, 1, 1, 0, 0]\n"
     ]
    }
   ],
   "source": [
    "B.remove([])\n",
    "for a in B:        \n",
    "    while len(a)<11:\n",
    "        a.append(0)\n",
    "    print(a)"
   ]
  },
  {
   "cell_type": "code",
   "execution_count": 28,
   "metadata": {},
   "outputs": [],
   "source": [
    "def HammingEncode1(d):\n",
    "    string=list(d)\n",
    "    string.reverse()\n",
    "    a = 0\n",
    "    b = 0\n",
    "    c = 0\n",
    "    e = 0\n",
    "    enc = []\n",
    "\n",
    "    while ((len(d)+e+1)>(pow(2,e))):\n",
    "        e+=1\n",
    "\n",
    "    for i in range(0,(e+len(string))):\n",
    "        s=(2**a)\n",
    "\n",
    "        if(s==(i+1)):\n",
    "            enc.append(0)\n",
    "            a+=1\n",
    "\n",
    "        else:\n",
    "            enc.append(int(string[c]))\n",
    "            c+=1\n",
    "\n",
    "    for parit in range(0,(len(enc))):\n",
    "        p=(2**b)\n",
    "        if(p==(parit+1)):\n",
    "            Index=p-1\n",
    "            i=Index\n",
    "            Xor=[]\n",
    "\n",
    "            while(i<len(enc)):\n",
    "                bl=enc[i:i+p]\n",
    "                Xor.extend(bl)\n",
    "                i+=2*p\n",
    "\n",
    "            for j in range(1,len(Xor)):\n",
    "                enc[Index]=enc[Index]^Xor[j]\n",
    "            b+=1\n",
    "\n",
    "    enc.reverse()\n",
    "    print('Generated hamming code is ', end=\"\")\n",
    "    print(int(''.join(map(str, enc))))\n",
    "    \n",
    "    return enc\n",
    "\n"
   ]
  },
  {
   "cell_type": "code",
   "execution_count": 29,
   "metadata": {},
   "outputs": [
    {
     "name": "stdout",
     "output_type": "stream",
     "text": [
      "Generated hamming code is 110011111100111\n",
      "Generated hamming code is 10100000101111\n",
      "Generated hamming code is 10011101110010\n",
      "Generated hamming code is 111101100000100\n",
      "Generated hamming code is 10010000010111\n",
      "Generated hamming code is 100110100011111\n",
      "Generated hamming code is 110011001001100\n",
      "Generated hamming code is 11001010110101\n",
      "Generated hamming code is 100111111001000\n",
      "Generated hamming code is 111101101111100\n",
      "Generated hamming code is 10000011011000\n",
      "Generated hamming code is 100010001111\n",
      "Generated hamming code is 110000111001011\n",
      "Generated hamming code is 10010000011\n",
      "Generated hamming code is 111001010\n",
      "Generated hamming code is 1000011101111\n",
      "Generated hamming code is 110000001100\n",
      "Generated hamming code is 111000101101000\n",
      "Generated hamming code is 1001000010010\n",
      "Generated hamming code is 1011100011\n"
     ]
    }
   ],
   "source": [
    "encodedB = []\n",
    "for a in B:  \n",
    "    encodedB.append(HammingEncode1(a))"
   ]
  },
  {
   "cell_type": "code",
   "execution_count": 32,
   "metadata": {},
   "outputs": [],
   "source": [
    "seq = ''\n",
    "for a in encodedB:\n",
    "    for b in a:\n",
    "        seq = seq + str(b)"
   ]
  },
  {
   "cell_type": "code",
   "execution_count": 33,
   "metadata": {},
   "outputs": [
    {
     "data": {
      "text/plain": [
       "'110011111100111010100000101111010011101110010111101100000100010010000010111100110100011111110011001001100011001010110101100111111001000111101101111100010000011011000000100010001111110000111001011000010010000011000000111001010001000011101111000110000001100111000101101000001001000010010000001011100011'"
      ]
     },
     "execution_count": 33,
     "metadata": {},
     "output_type": "execute_result"
    }
   ],
   "source": [
    "seq"
   ]
  },
  {
   "cell_type": "code",
   "execution_count": null,
   "metadata": {},
   "outputs": [],
   "source": []
  }
 ],
 "metadata": {
  "kernelspec": {
   "display_name": "Python 3",
   "language": "python",
   "name": "python3"
  },
  "language_info": {
   "codemirror_mode": {
    "name": "ipython",
    "version": 3
   },
   "file_extension": ".py",
   "mimetype": "text/x-python",
   "name": "python",
   "nbconvert_exporter": "python",
   "pygments_lexer": "ipython3",
   "version": "3.8.3"
  }
 },
 "nbformat": 4,
 "nbformat_minor": 4
}
