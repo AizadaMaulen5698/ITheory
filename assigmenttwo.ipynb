{
 "cells": [
  {
   "cell_type": "code",
   "execution_count": 1,
   "metadata": {},
   "outputs": [],
   "source": [
    "import pandas as pd\n",
    "import numpy as np\n",
    "import seaborn as sns\n",
    "import matplotlib.pyplot as plt\n",
    "import statistics\n",
    "import scipy \n",
    "from scipy import stats"
   ]
  },
  {
   "cell_type": "code",
   "execution_count": 4,
   "metadata": {},
   "outputs": [
    {
     "name": "stdout",
     "output_type": "stream",
     "text": [
      "{'1', 'J', ')', 'h', '0', 'G', 'i', ',', ';', 'H', 'S', 'f', 'D', '#', 'c', 'x', ':', 'A', ' ', '6', 'U', 'u', 'a', '(', 'N', 'y', 'l', 'w', 'P', 'd', 'B', '3', 'k', '\\n', \"'\", 'n', 'm', 'o', '\"', 'L', 'e', 'E', '.', 'T', 'p', 'W', 'b', 'Y', 'v', 't', '-', 'C', 's', '9', 'F', '&', 'g', 'R', 'z', 'Q', '2', 'I', 'r'}\n"
     ]
    }
   ],
   "source": [
    "text = open('text.txt','r').read()\n",
    "uniquechars = set(text)\n",
    "print(set(uniquechars))"
   ]
  },
  {
   "cell_type": "code",
   "execution_count": 6,
   "metadata": {},
   "outputs": [
    {
     "name": "stdout",
     "output_type": "stream",
     "text": [
      "{'L': 2, 'o': 94, 'n': 105, 'd': 71, ' ': 303, '(': 1, 'C': 4, 'N': 2, ')': 1, 'Q': 3, 'u': 37, 'e': 165, 'E': 5, 'l': 70, 'i': 117, 'z': 1, 'a': 119, 'b': 16, 't': 88, 'h': 70, 'I': 5, 's': 86, 'c': 39, 'r': 82, 'g': 35, 'f': 34, 'w': 22, '\"': 17, 'v': 12, 'P': 20, 'p': 29, \"'\": 7, ',': 16, 'A': 11, 'S': 6, 'y': 26, '.': 20, '\\n': 16, 'k': 10, 'm': 28, 'R': 3, 'W': 4, 'D': 1, 'Y': 1, ':': 3, '-': 1, 'B': 3, '9': 3, 'F': 4, 'H': 4, 'J': 2, '2': 2, '0': 3, '1': 3, '6': 2, 'T': 3, 'U': 1, 'x': 1, '&': 1, '#': 1, '3': 1, ';': 1, 'G': 1}\n"
     ]
    }
   ],
   "source": [
    "freq = {}0\n",
    "for line in text:\n",
    "        for symbol in line:\n",
    "            if symbol in freq:\n",
    "                freq[symbol] += 1\n",
    "            else:\n",
    "                freq[symbol] = 1\n",
    "\n",
    "print(freq)"
   ]
  },
  {
   "cell_type": "code",
   "execution_count": 16,
   "metadata": {},
   "outputs": [
    {
     "name": "stdout",
     "output_type": "stream",
     "text": [
      "{'L': 0.0011, 'o': 0.051, 'n': 0.0569, 'd': 0.0385, ' ': 0.1643, '(': 0.0005, 'C': 0.0022, 'N': 0.0011, ')': 0.0005, 'Q': 0.0016, 'u': 0.0201, 'e': 0.0895, 'E': 0.0027, 'l': 0.038, 'i': 0.0634, 'z': 0.0005, 'a': 0.0645, 'b': 0.0087, 't': 0.0477, 'h': 0.038, 'I': 0.0027, 's': 0.0466, 'c': 0.0211, 'r': 0.0445, 'g': 0.019, 'f': 0.0184, 'w': 0.0119, '\"': 0.0092, 'v': 0.0065, 'P': 0.0108, 'p': 0.0157, \"'\": 0.0038, ',': 0.0087, 'A': 0.006, 'S': 0.0033, 'y': 0.0141, '.': 0.0108, '\\n': 0.0087, 'k': 0.0054, 'm': 0.0152, 'R': 0.0016, 'W': 0.0022, 'D': 0.0005, 'Y': 0.0005, ':': 0.0016, '-': 0.0005, 'B': 0.0016, '9': 0.0016, 'F': 0.0022, 'H': 0.0022, 'J': 0.0011, '2': 0.0011, '0': 0.0016, '1': 0.0016, '6': 0.0011, 'T': 0.0016, 'U': 0.0005, 'x': 0.0005, '&': 0.0005, '#': 0.0005, '3': 0.0005, ';': 0.0005, 'G': 0.0005}\n"
     ]
    }
   ],
   "source": [
    "def get_probability(freq):\n",
    "    totalfreq = sum(list(freq.values()))\n",
    "\n",
    "    probabilities = {}\n",
    "    for key, value in freq.items():\n",
    "        probabilities[key] = round(value/totalfreq,4)\n",
    "\n",
    "    return probabilities\n",
    "\n",
    "print(get_probability(freq))"
   ]
  },
  {
   "cell_type": "code",
   "execution_count": null,
   "metadata": {},
   "outputs": [],
   "source": []
  }
 ],
 "metadata": {
  "kernelspec": {
   "display_name": "Python 3",
   "language": "python",
   "name": "python3"
  },
  "language_info": {
   "codemirror_mode": {
    "name": "ipython",
    "version": 3
   },
   "file_extension": ".py",
   "mimetype": "text/x-python",
   "name": "python",
   "nbconvert_exporter": "python",
   "pygments_lexer": "ipython3",
   "version": "3.8.3"
  }
 },
 "nbformat": 4,
 "nbformat_minor": 4
}
