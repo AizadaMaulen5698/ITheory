{
 "cells": [
  {
   "cell_type": "code",
   "execution_count": 1,
   "metadata": {},
   "outputs": [],
   "source": [
    "import pandas as pd\n",
    "import numpy as np\n",
    "import seaborn as sns\n",
    "import matplotlib.pyplot as plt\n",
    "import statistics\n",
    "import scipy \n",
    "from scipy import stats"
   ]
  },
  {
   "cell_type": "code",
   "execution_count": 2,
   "metadata": {},
   "outputs": [
    {
     "name": "stdout",
     "output_type": "stream",
     "text": [
      "{'#', '(', 'J', 'W', 'y', 'B', '9', 'i', 'x', '6', 'e', 'l', 'A', \"'\", 'H', 'o', 'u', 'w', ':', ')', 'c', 'F', '0', '\"', 'k', 's', 'G', 'h', '2', '3', 'D', 'Y', 'R', 'L', 'T', 'd', 'P', 'z', 't', 'g', ' ', 'S', 'v', '&', 'Q', 'f', 'm', ',', 'b', 'a', 'I', 'C', 'E', '-', '1', 'n', '\\n', ';', 'N', 'r', 'p', 'U', '.'}\n"
     ]
    }
   ],
   "source": [
    "text = open('text.txt','r').read()\n",
    "uniquechars = set(text)\n",
    "print(set(uniquechars))"
   ]
  },
  {
   "cell_type": "code",
   "execution_count": 4,
   "metadata": {},
   "outputs": [
    {
     "name": "stdout",
     "output_type": "stream",
     "text": [
      "{'L': 2, 'o': 94, 'n': 105, 'd': 71, ' ': 303, '(': 1, 'C': 4, 'N': 2, ')': 1, 'Q': 3, 'u': 37, 'e': 165, 'E': 5, 'l': 70, 'i': 117, 'z': 1, 'a': 119, 'b': 16, 't': 88, 'h': 70, 'I': 5, 's': 86, 'c': 39, 'r': 82, 'g': 35, 'f': 34, 'w': 22, '\"': 17, 'v': 12, 'P': 20, 'p': 29, \"'\": 7, ',': 16, 'A': 11, 'S': 6, 'y': 26, '.': 20, '\\n': 16, 'k': 10, 'm': 28, 'R': 3, 'W': 4, 'D': 1, 'Y': 1, ':': 3, '-': 1, 'B': 3, '9': 3, 'F': 4, 'H': 4, 'J': 2, '2': 2, '0': 3, '1': 3, '6': 2, 'T': 3, 'U': 1, 'x': 1, '&': 1, '#': 1, '3': 1, ';': 1, 'G': 1}\n"
     ]
    }
   ],
   "source": [
    "freq = {}\n",
    "for line in text:\n",
    "        for symbol in line:\n",
    "            if symbol in freq:\n",
    "                freq[symbol] += 1\n",
    "            else:\n",
    "                freq[symbol] = 1\n",
    "\n",
    "print(freq)"
   ]
  },
  {
   "cell_type": "code",
   "execution_count": 5,
   "metadata": {},
   "outputs": [
    {
     "name": "stdout",
     "output_type": "stream",
     "text": [
      "{'L': 0.0011, 'o': 0.051, 'n': 0.0569, 'd': 0.0385, ' ': 0.1643, '(': 0.0005, 'C': 0.0022, 'N': 0.0011, ')': 0.0005, 'Q': 0.0016, 'u': 0.0201, 'e': 0.0895, 'E': 0.0027, 'l': 0.038, 'i': 0.0634, 'z': 0.0005, 'a': 0.0645, 'b': 0.0087, 't': 0.0477, 'h': 0.038, 'I': 0.0027, 's': 0.0466, 'c': 0.0211, 'r': 0.0445, 'g': 0.019, 'f': 0.0184, 'w': 0.0119, '\"': 0.0092, 'v': 0.0065, 'P': 0.0108, 'p': 0.0157, \"'\": 0.0038, ',': 0.0087, 'A': 0.006, 'S': 0.0033, 'y': 0.0141, '.': 0.0108, '\\n': 0.0087, 'k': 0.0054, 'm': 0.0152, 'R': 0.0016, 'W': 0.0022, 'D': 0.0005, 'Y': 0.0005, ':': 0.0016, '-': 0.0005, 'B': 0.0016, '9': 0.0016, 'F': 0.0022, 'H': 0.0022, 'J': 0.0011, '2': 0.0011, '0': 0.0016, '1': 0.0016, '6': 0.0011, 'T': 0.0016, 'U': 0.0005, 'x': 0.0005, '&': 0.0005, '#': 0.0005, '3': 0.0005, ';': 0.0005, 'G': 0.0005}\n"
     ]
    }
   ],
   "source": [
    "def get_probability(freq):\n",
    "    totalfreq = sum(list(freq.values()))\n",
    "\n",
    "    probabilities = {}\n",
    "    for key, value in freq.items():\n",
    "        probabilities[key] = round(value/totalfreq,4)\n",
    "\n",
    "    return probabilities\n",
    "\n",
    "print(get_probability(freq))"
   ]
  },
  {
   "cell_type": "code",
   "execution_count": null,
   "metadata": {},
   "outputs": [],
   "source": [
    "#Alternative method"
   ]
  },
  {
   "cell_type": "code",
   "execution_count": 33,
   "metadata": {},
   "outputs": [
    {
     "name": "stdout",
     "output_type": "stream",
     "text": [
      "\n",
      " : 16\n",
      "  : 303\n",
      "\" : 17\n",
      "# : 1\n",
      "& : 1\n",
      "' : 7\n",
      "( : 1\n",
      ") : 1\n",
      ", : 16\n",
      "- : 1\n",
      ". : 20\n",
      "0 : 3\n",
      "1 : 3\n",
      "2 : 2\n",
      "3 : 1\n",
      "6 : 2\n",
      "9 : 3\n",
      ": : 3\n",
      "; : 1\n",
      "A : 11\n",
      "B : 3\n",
      "C : 4\n",
      "D : 1\n",
      "E : 5\n",
      "F : 4\n",
      "G : 1\n",
      "H : 4\n",
      "I : 5\n",
      "J : 2\n",
      "L : 2\n",
      "N : 2\n",
      "P : 20\n",
      "Q : 3\n",
      "R : 3\n",
      "S : 6\n",
      "T : 3\n",
      "U : 1\n",
      "W : 4\n",
      "Y : 1\n",
      "a : 119\n",
      "b : 16\n",
      "c : 39\n",
      "d : 71\n",
      "e : 165\n",
      "f : 34\n",
      "g : 35\n",
      "h : 70\n",
      "i : 117\n",
      "k : 10\n",
      "l : 70\n",
      "m : 28\n",
      "n : 105\n",
      "o : 94\n",
      "p : 29\n",
      "r : 82\n",
      "s : 86\n",
      "t : 88\n",
      "u : 37\n",
      "v : 12\n",
      "w : 22\n",
      "x : 1\n",
      "y : 26\n",
      "z : 1\n",
      "total: 1844\n"
     ]
    }
   ],
   "source": [
    "    with open('text.txt', 'r') as f:\n",
    "        text = f.read()\n",
    "    uniquechars = set(text)\n",
    "    count = {ch: 0 for ch in uniquechars}\n",
    "\n",
    "    for char in text:\n",
    "        count[char] += 1\n",
    "\n",
    "    for key in sorted(count):\n",
    "        print(key,\":\", count[key])\n",
    "\n",
    "    print(\"total:\", sum(count.values()))"
   ]
  },
  {
   "cell_type": "code",
   "execution_count": 34,
   "metadata": {},
   "outputs": [
    {
     "name": "stdout",
     "output_type": "stream",
     "text": [
      "\n",
      " : 0.008676789587852495\n",
      "  : 0.1643167028199566\n",
      "\" : 0.009219088937093275\n",
      "# : 0.0005422993492407809\n",
      "& : 0.0005422993492407809\n",
      "' : 0.003796095444685466\n",
      "( : 0.0005422993492407809\n",
      ") : 0.0005422993492407809\n",
      ", : 0.008676789587852495\n",
      "- : 0.0005422993492407809\n",
      ". : 0.010845986984815618\n",
      "0 : 0.0016268980477223427\n",
      "1 : 0.0016268980477223427\n",
      "2 : 0.0010845986984815619\n",
      "3 : 0.0005422993492407809\n",
      "6 : 0.0010845986984815619\n",
      "9 : 0.0016268980477223427\n",
      ": : 0.0016268980477223427\n",
      "; : 0.0005422993492407809\n",
      "A : 0.00596529284164859\n",
      "B : 0.0016268980477223427\n",
      "C : 0.0021691973969631237\n",
      "D : 0.0005422993492407809\n",
      "E : 0.0027114967462039045\n",
      "F : 0.0021691973969631237\n",
      "G : 0.0005422993492407809\n",
      "H : 0.0021691973969631237\n",
      "I : 0.0027114967462039045\n",
      "J : 0.0010845986984815619\n",
      "L : 0.0010845986984815619\n",
      "N : 0.0010845986984815619\n",
      "P : 0.010845986984815618\n",
      "Q : 0.0016268980477223427\n",
      "R : 0.0016268980477223427\n",
      "S : 0.0032537960954446853\n",
      "T : 0.0016268980477223427\n",
      "U : 0.0005422993492407809\n",
      "W : 0.0021691973969631237\n",
      "Y : 0.0005422993492407809\n",
      "a : 0.06453362255965293\n",
      "b : 0.008676789587852495\n",
      "c : 0.021149674620390455\n",
      "d : 0.03850325379609545\n",
      "e : 0.08947939262472886\n",
      "f : 0.01843817787418655\n",
      "g : 0.01898047722342733\n",
      "h : 0.03796095444685466\n",
      "i : 0.06344902386117136\n",
      "k : 0.005422993492407809\n",
      "l : 0.03796095444685466\n",
      "m : 0.015184381778741865\n",
      "n : 0.056941431670282\n",
      "o : 0.0509761388286334\n",
      "p : 0.015726681127982648\n",
      "r : 0.044468546637744036\n",
      "s : 0.046637744034707156\n",
      "t : 0.04772234273318872\n",
      "u : 0.020065075921908895\n",
      "v : 0.006507592190889371\n",
      "w : 0.01193058568329718\n",
      "x : 0.0005422993492407809\n",
      "y : 0.014099783080260303\n",
      "z : 0.0005422993492407809\n",
      "total: 0.9999999999999996\n"
     ]
    }
   ],
   "source": [
    "s = sum(count.values())\n",
    "for key in count:\n",
    "    count[key] = count[key]/s\n",
    "    \n",
    "for key in sorted(count):\n",
    "    print(key,\":\", count[key])\n",
    "\n",
    "print(\"total:\", sum(count.values()))"
   ]
  },
  {
   "cell_type": "code",
   "execution_count": null,
   "metadata": {},
   "outputs": [],
   "source": []
  }
 ],
 "metadata": {
  "kernelspec": {
   "display_name": "Python 3",
   "language": "python",
   "name": "python3"
  },
  "language_info": {
   "codemirror_mode": {
    "name": "ipython",
    "version": 3
   },
   "file_extension": ".py",
   "mimetype": "text/x-python",
   "name": "python",
   "nbconvert_exporter": "python",
   "pygments_lexer": "ipython3",
   "version": "3.8.5"
  }
 },
 "nbformat": 4,
 "nbformat_minor": 4
}
